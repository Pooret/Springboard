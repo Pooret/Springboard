{
 "cells": [
  {
   "cell_type": "code",
   "execution_count": 1,
   "id": "f1c57104",
   "metadata": {},
   "outputs": [],
   "source": [
    "# import libraries\n",
    "import pandas as pd\n",
    "import numpy as np\n",
    "import os\n",
    "import re\n",
    "\n",
    "import matplotlib.pyplot as plt\n",
    "\n",
    "plt.style.use('fivethirtyeight')\n",
    "\n",
    "# Feature Engineering\n",
    "from sklearn.model_selection import train_test_split\n",
    "\n",
    "# soundtrack - \n",
    "##############\n",
    "# Inspiration (Theme) : Relax, inc.\n",
    "##############\n",
    "# Snakes & Ladders - Single - Mzuki & Himalia\n",
    "# Situations - Escape This - Himalia\n",
    "# Transitions - World Alight (feat. Rhea) - Himalia\n",
    "# Kingdom (feat. Sakima) [Barefoot Remix] = Himalia\n",
    "# Situations - Do You Wanna (feat. Laurelle) - Himalia\n",
    "##############\n",
    "\n",
    "# Where to save the figures (I adapted this from Aurelien Geron's code will fill in rest later)\n",
    "PROJECT_ROOT_DIR = \".\"\n",
    "PROJECT_ID = \"relax\"\n",
    "IMAGES_PATH = os.path.join(PROJECT_ROOT_DIR, \"images\", PROJECT_ID)\n",
    "#MODEL_PATH = os.path.join(PROJECT_ROOT_DIR, 'models', PROJECT_ID)\n",
    "#$os.makedirs(MODEL_PATH, exist_ok=True)\n",
    "os.makedirs(IMAGES_PATH, exist_ok=True)\n",
    "\n",
    "def save_fig(fig_id, tight_layout=True, fig_extension=\"png\", resolution=72):\n",
    "    \"\"\" \n",
    "    resolution quality\n",
    "    300 high \n",
    "    150 medium\n",
    "    72 low\n",
    "    \"\"\"\n",
    "    path = os.path.join(IMAGES_PATH, fig_id + \".\" + fig_extension)\n",
    "    print(\"Saving figure\", fig_id)\n",
    "    if tight_layout:\n",
    "        plt.tight_layout()\n",
    "    plt.savefig(path, format=fig_extension, dpi=resolution)"
   ]
  },
  {
   "cell_type": "code",
   "execution_count": 2,
   "id": "a8181478",
   "metadata": {},
   "outputs": [],
   "source": [
    "# read in table, set encoding to latin-1 \n",
    "# see https://stackoverflow.com/questions/5552555/unicodedecodeerror-invalid-continuation-byte \n",
    "\n",
    "users = pd.read_csv('./takehome_users.csv', encoding='latin-1')\n",
    "user_engagement = pd.read_csv('./takehome_user_engagement.csv')"
   ]
  },
  {
   "cell_type": "markdown",
   "id": "eca0909f",
   "metadata": {},
   "source": [
    "table 1 \"takehome_users\" - 12,000 users who signed up for the product in the last two years:\n",
    "    \n",
    "    ● name: the user's name\n",
    "    ● object_id: the user's id\n",
    "    ● email: email address\n",
    "    ● creation_source: how their account was created. This takes on one of 5 values:\n",
    "        ○ PERSONAL_PROJECTS: invited to join another user's personal workspace\n",
    "        ○ GUEST_INVITE: invited to an organization as a guest (limited permissions)\n",
    "        ○ ORG_INVITE: invited to an organization (as a full member)\n",
    "        ○ SIGNUP: signed up via the website\n",
    "        ○ SIGNUP_GOOGLE_AUTH: signed up using Google Authentication (using a Google email account for their login id)\n",
    "    ● creation_time: when they created their account\n",
    "    ● last_session_creation_time: unix timestamp of last login\n",
    "    ● opted_in_to_mailing_list: whether they have opted into receiving marketing emails\n",
    "    ● enabled_for_marketing_drip: whether they are on the regular marketing email drip\n",
    "    ● org_id: the organization (group of users) they belong to\n",
    "    ● invited_by_user_id: which user invited them to join (if applicable).\n",
    "    ● is_adopted: target feature created by calling function is_adopted() on object_id (done here)\n",
    "    \n",
    "table 2 A usage summary table (\"takehome_user_engagement\") that has a row for each day that a user logged into the product.\n",
    "\n",
    "Task Defining an \"adopted user\" as a user who has logged into the product on three separate days in at least one seven-day period, identify which factors predict future user adoption."
   ]
  },
  {
   "cell_type": "markdown",
   "id": "dcd3d8b3",
   "metadata": {},
   "source": [
    "### Cleanup/Data Normalization"
   ]
  },
  {
   "cell_type": "code",
   "execution_count": 3,
   "id": "fd9c347a",
   "metadata": {},
   "outputs": [
    {
     "data": {
      "text/plain": [
       "time_stamp    datetime64[ns]\n",
       "user_id                int64\n",
       "visited                int64\n",
       "dtype: object"
      ]
     },
     "execution_count": 3,
     "metadata": {},
     "output_type": "execute_result"
    }
   ],
   "source": [
    "# User engagement first\n",
    "\n",
    "user_engagement['time_stamp'] = pd.to_datetime(user_engagement['time_stamp'], errors='raise', infer_datetime_format=True)\n",
    "user_engagement.dtypes"
   ]
  },
  {
   "cell_type": "code",
   "execution_count": 4,
   "id": "d4cdfbe9",
   "metadata": {},
   "outputs": [
    {
     "data": {
      "text/plain": [
       "time_stamp    0\n",
       "user_id       0\n",
       "visited       0\n",
       "dtype: int64"
      ]
     },
     "execution_count": 4,
     "metadata": {},
     "output_type": "execute_result"
    }
   ],
   "source": [
    "user_engagement.isna().sum()"
   ]
  },
  {
   "cell_type": "code",
   "execution_count": 5,
   "id": "c9c3e46a",
   "metadata": {},
   "outputs": [],
   "source": [
    "# save oldest date for login activity\n",
    "today = user_engagement['time_stamp'].max()"
   ]
  },
  {
   "cell_type": "code",
   "execution_count": 6,
   "id": "2c853fbf",
   "metadata": {
    "scrolled": true
   },
   "outputs": [
    {
     "data": {
      "text/plain": [
       "(207917, 3)"
      ]
     },
     "execution_count": 6,
     "metadata": {},
     "output_type": "execute_result"
    }
   ],
   "source": [
    "user_engagement.shape"
   ]
  },
  {
   "cell_type": "code",
   "execution_count": 7,
   "id": "13679cba",
   "metadata": {},
   "outputs": [
    {
     "data": {
      "text/html": [
       "<div>\n",
       "<style scoped>\n",
       "    .dataframe tbody tr th:only-of-type {\n",
       "        vertical-align: middle;\n",
       "    }\n",
       "\n",
       "    .dataframe tbody tr th {\n",
       "        vertical-align: top;\n",
       "    }\n",
       "\n",
       "    .dataframe thead th {\n",
       "        text-align: right;\n",
       "    }\n",
       "</style>\n",
       "<table border=\"1\" class=\"dataframe\">\n",
       "  <thead>\n",
       "    <tr style=\"text-align: right;\">\n",
       "      <th></th>\n",
       "      <th>time_stamp</th>\n",
       "      <th>user_id</th>\n",
       "      <th>visited</th>\n",
       "    </tr>\n",
       "  </thead>\n",
       "  <tbody>\n",
       "    <tr>\n",
       "      <th>0</th>\n",
       "      <td>2014-04-22 03:53:30</td>\n",
       "      <td>1</td>\n",
       "      <td>1</td>\n",
       "    </tr>\n",
       "    <tr>\n",
       "      <th>1</th>\n",
       "      <td>2013-11-15 03:45:04</td>\n",
       "      <td>2</td>\n",
       "      <td>1</td>\n",
       "    </tr>\n",
       "    <tr>\n",
       "      <th>2</th>\n",
       "      <td>2013-11-29 03:45:04</td>\n",
       "      <td>2</td>\n",
       "      <td>1</td>\n",
       "    </tr>\n",
       "    <tr>\n",
       "      <th>3</th>\n",
       "      <td>2013-12-09 03:45:04</td>\n",
       "      <td>2</td>\n",
       "      <td>1</td>\n",
       "    </tr>\n",
       "    <tr>\n",
       "      <th>4</th>\n",
       "      <td>2013-12-25 03:45:04</td>\n",
       "      <td>2</td>\n",
       "      <td>1</td>\n",
       "    </tr>\n",
       "  </tbody>\n",
       "</table>\n",
       "</div>"
      ],
      "text/plain": [
       "           time_stamp  user_id  visited\n",
       "0 2014-04-22 03:53:30        1        1\n",
       "1 2013-11-15 03:45:04        2        1\n",
       "2 2013-11-29 03:45:04        2        1\n",
       "3 2013-12-09 03:45:04        2        1\n",
       "4 2013-12-25 03:45:04        2        1"
      ]
     },
     "execution_count": 7,
     "metadata": {},
     "output_type": "execute_result"
    }
   ],
   "source": [
    "user_engagement.head()"
   ]
  },
  {
   "cell_type": "code",
   "execution_count": 8,
   "id": "081b26fe",
   "metadata": {},
   "outputs": [
    {
     "data": {
      "text/plain": [
       "8823"
      ]
     },
     "execution_count": 8,
     "metadata": {},
     "output_type": "execute_result"
    }
   ],
   "source": [
    "# number of user ids\n",
    "user_engagement['user_id'].nunique()"
   ]
  },
  {
   "cell_type": "code",
   "execution_count": 9,
   "id": "c640c016",
   "metadata": {
    "scrolled": true
   },
   "outputs": [
    {
     "name": "stdout",
     "output_type": "stream",
     "text": [
      "<class 'pandas.core.frame.DataFrame'>\n",
      "RangeIndex: 12000 entries, 0 to 11999\n",
      "Data columns (total 10 columns):\n",
      " #   Column                      Non-Null Count  Dtype  \n",
      "---  ------                      --------------  -----  \n",
      " 0   object_id                   12000 non-null  int64  \n",
      " 1   creation_time               12000 non-null  object \n",
      " 2   name                        12000 non-null  object \n",
      " 3   email                       12000 non-null  object \n",
      " 4   creation_source             12000 non-null  object \n",
      " 5   last_session_creation_time  8823 non-null   float64\n",
      " 6   opted_in_to_mailing_list    12000 non-null  int64  \n",
      " 7   enabled_for_marketing_drip  12000 non-null  int64  \n",
      " 8   org_id                      12000 non-null  int64  \n",
      " 9   invited_by_user_id          6417 non-null   float64\n",
      "dtypes: float64(2), int64(4), object(4)\n",
      "memory usage: 937.6+ KB\n"
     ]
    }
   ],
   "source": [
    "# Users next\n",
    "\n",
    "users.info()"
   ]
  },
  {
   "cell_type": "code",
   "execution_count": 10,
   "id": "5bb2df71",
   "metadata": {},
   "outputs": [
    {
     "data": {
      "text/html": [
       "<div>\n",
       "<style scoped>\n",
       "    .dataframe tbody tr th:only-of-type {\n",
       "        vertical-align: middle;\n",
       "    }\n",
       "\n",
       "    .dataframe tbody tr th {\n",
       "        vertical-align: top;\n",
       "    }\n",
       "\n",
       "    .dataframe thead th {\n",
       "        text-align: right;\n",
       "    }\n",
       "</style>\n",
       "<table border=\"1\" class=\"dataframe\">\n",
       "  <thead>\n",
       "    <tr style=\"text-align: right;\">\n",
       "      <th></th>\n",
       "      <th>object_id</th>\n",
       "      <th>creation_time</th>\n",
       "      <th>name</th>\n",
       "      <th>email</th>\n",
       "      <th>creation_source</th>\n",
       "      <th>last_session_creation_time</th>\n",
       "      <th>opted_in_to_mailing_list</th>\n",
       "      <th>enabled_for_marketing_drip</th>\n",
       "      <th>org_id</th>\n",
       "      <th>invited_by_user_id</th>\n",
       "    </tr>\n",
       "  </thead>\n",
       "  <tbody>\n",
       "    <tr>\n",
       "      <th>0</th>\n",
       "      <td>1</td>\n",
       "      <td>2014-04-22 03:53:30</td>\n",
       "      <td>Clausen August</td>\n",
       "      <td>AugustCClausen@yahoo.com</td>\n",
       "      <td>GUEST_INVITE</td>\n",
       "      <td>1.398139e+09</td>\n",
       "      <td>1</td>\n",
       "      <td>0</td>\n",
       "      <td>11</td>\n",
       "      <td>10803.0</td>\n",
       "    </tr>\n",
       "    <tr>\n",
       "      <th>1</th>\n",
       "      <td>2</td>\n",
       "      <td>2013-11-15 03:45:04</td>\n",
       "      <td>Poole Matthew</td>\n",
       "      <td>MatthewPoole@gustr.com</td>\n",
       "      <td>ORG_INVITE</td>\n",
       "      <td>1.396238e+09</td>\n",
       "      <td>0</td>\n",
       "      <td>0</td>\n",
       "      <td>1</td>\n",
       "      <td>316.0</td>\n",
       "    </tr>\n",
       "    <tr>\n",
       "      <th>2</th>\n",
       "      <td>3</td>\n",
       "      <td>2013-03-19 23:14:52</td>\n",
       "      <td>Bottrill Mitchell</td>\n",
       "      <td>MitchellBottrill@gustr.com</td>\n",
       "      <td>ORG_INVITE</td>\n",
       "      <td>1.363735e+09</td>\n",
       "      <td>0</td>\n",
       "      <td>0</td>\n",
       "      <td>94</td>\n",
       "      <td>1525.0</td>\n",
       "    </tr>\n",
       "    <tr>\n",
       "      <th>3</th>\n",
       "      <td>4</td>\n",
       "      <td>2013-05-21 08:09:28</td>\n",
       "      <td>Clausen Nicklas</td>\n",
       "      <td>NicklasSClausen@yahoo.com</td>\n",
       "      <td>GUEST_INVITE</td>\n",
       "      <td>1.369210e+09</td>\n",
       "      <td>0</td>\n",
       "      <td>0</td>\n",
       "      <td>1</td>\n",
       "      <td>5151.0</td>\n",
       "    </tr>\n",
       "    <tr>\n",
       "      <th>4</th>\n",
       "      <td>5</td>\n",
       "      <td>2013-01-17 10:14:20</td>\n",
       "      <td>Raw Grace</td>\n",
       "      <td>GraceRaw@yahoo.com</td>\n",
       "      <td>GUEST_INVITE</td>\n",
       "      <td>1.358850e+09</td>\n",
       "      <td>0</td>\n",
       "      <td>0</td>\n",
       "      <td>193</td>\n",
       "      <td>5240.0</td>\n",
       "    </tr>\n",
       "  </tbody>\n",
       "</table>\n",
       "</div>"
      ],
      "text/plain": [
       "   object_id        creation_time               name  \\\n",
       "0          1  2014-04-22 03:53:30     Clausen August   \n",
       "1          2  2013-11-15 03:45:04      Poole Matthew   \n",
       "2          3  2013-03-19 23:14:52  Bottrill Mitchell   \n",
       "3          4  2013-05-21 08:09:28    Clausen Nicklas   \n",
       "4          5  2013-01-17 10:14:20          Raw Grace   \n",
       "\n",
       "                        email creation_source  last_session_creation_time  \\\n",
       "0    AugustCClausen@yahoo.com    GUEST_INVITE                1.398139e+09   \n",
       "1      MatthewPoole@gustr.com      ORG_INVITE                1.396238e+09   \n",
       "2  MitchellBottrill@gustr.com      ORG_INVITE                1.363735e+09   \n",
       "3   NicklasSClausen@yahoo.com    GUEST_INVITE                1.369210e+09   \n",
       "4          GraceRaw@yahoo.com    GUEST_INVITE                1.358850e+09   \n",
       "\n",
       "   opted_in_to_mailing_list  enabled_for_marketing_drip  org_id  \\\n",
       "0                         1                           0      11   \n",
       "1                         0                           0       1   \n",
       "2                         0                           0      94   \n",
       "3                         0                           0       1   \n",
       "4                         0                           0     193   \n",
       "\n",
       "   invited_by_user_id  \n",
       "0             10803.0  \n",
       "1               316.0  \n",
       "2              1525.0  \n",
       "3              5151.0  \n",
       "4              5240.0  "
      ]
     },
     "execution_count": 10,
     "metadata": {},
     "output_type": "execute_result"
    }
   ],
   "source": [
    "users.head()"
   ]
  },
  {
   "cell_type": "code",
   "execution_count": 11,
   "id": "69e76309",
   "metadata": {},
   "outputs": [
    {
     "data": {
      "text/plain": [
       "PERSONAL_PROJECTS    1347\n",
       "ORG_INVITE           1066\n",
       "GUEST_INVITE          575\n",
       "SIGNUP                189\n",
       "Name: creation_source, dtype: int64"
      ]
     },
     "execution_count": 11,
     "metadata": {},
     "output_type": "execute_result"
    }
   ],
   "source": [
    "\n",
    "users['creation_source'][users['last_session_creation_time'].isna()].value_counts()"
   ]
  },
  {
   "cell_type": "code",
   "execution_count": 12,
   "id": "89aa9752",
   "metadata": {},
   "outputs": [
    {
     "data": {
      "text/plain": [
       "ORG_INVITE            4254\n",
       "GUEST_INVITE          2163\n",
       "PERSONAL_PROJECTS     2111\n",
       "SIGNUP                2087\n",
       "SIGNUP_GOOGLE_AUTH    1385\n",
       "Name: creation_source, dtype: int64"
      ]
     },
     "execution_count": 12,
     "metadata": {},
     "output_type": "execute_result"
    }
   ],
   "source": [
    "users['creation_source'].value_counts()"
   ]
  },
  {
   "cell_type": "code",
   "execution_count": 13,
   "id": "c8c03b94",
   "metadata": {},
   "outputs": [
    {
     "data": {
      "text/plain": [
       "object_id                     0.00000\n",
       "creation_time                 0.00000\n",
       "name                          0.00000\n",
       "email                         0.00000\n",
       "creation_source               0.00000\n",
       "last_session_creation_time    0.26475\n",
       "opted_in_to_mailing_list      0.00000\n",
       "enabled_for_marketing_drip    0.00000\n",
       "org_id                        0.00000\n",
       "invited_by_user_id            0.46525\n",
       "dtype: float64"
      ]
     },
     "execution_count": 13,
     "metadata": {},
     "output_type": "execute_result"
    }
   ],
   "source": [
    "# Cool, this was by accident but I'm resusing this for looking at percentages of missing values in a feature\n",
    "users.isna().sum() / len(users)"
   ]
  },
  {
   "cell_type": "markdown",
   "id": "0019fd29",
   "metadata": {},
   "source": [
    "Cleaning "
   ]
  },
  {
   "cell_type": "code",
   "execution_count": 14,
   "id": "5af36651",
   "metadata": {},
   "outputs": [],
   "source": [
    "users['creation_time'] = pd.to_datetime(users['creation_time'], errors='raise', infer_datetime_format=True)\n",
    "users['last_session_creation_time'] = pd.to_datetime(users['last_session_creation_time'], errors='raise', unit='s')\n",
    "users['invited_by_user_id'] = users['invited_by_user_id'].fillna(value=0).astype(int)"
   ]
  },
  {
   "cell_type": "code",
   "execution_count": 15,
   "id": "0494eac4",
   "metadata": {},
   "outputs": [
    {
     "data": {
      "text/html": [
       "<div>\n",
       "<style scoped>\n",
       "    .dataframe tbody tr th:only-of-type {\n",
       "        vertical-align: middle;\n",
       "    }\n",
       "\n",
       "    .dataframe tbody tr th {\n",
       "        vertical-align: top;\n",
       "    }\n",
       "\n",
       "    .dataframe thead th {\n",
       "        text-align: right;\n",
       "    }\n",
       "</style>\n",
       "<table border=\"1\" class=\"dataframe\">\n",
       "  <thead>\n",
       "    <tr style=\"text-align: right;\">\n",
       "      <th></th>\n",
       "      <th>object_id</th>\n",
       "      <th>creation_time</th>\n",
       "      <th>name</th>\n",
       "      <th>email</th>\n",
       "      <th>creation_source</th>\n",
       "      <th>last_session_creation_time</th>\n",
       "      <th>opted_in_to_mailing_list</th>\n",
       "      <th>enabled_for_marketing_drip</th>\n",
       "      <th>org_id</th>\n",
       "      <th>invited_by_user_id</th>\n",
       "    </tr>\n",
       "  </thead>\n",
       "  <tbody>\n",
       "    <tr>\n",
       "      <th>0</th>\n",
       "      <td>1</td>\n",
       "      <td>2014-04-22 03:53:30</td>\n",
       "      <td>Clausen August</td>\n",
       "      <td>AugustCClausen@yahoo.com</td>\n",
       "      <td>GUEST_INVITE</td>\n",
       "      <td>2014-04-22 03:53:30</td>\n",
       "      <td>1</td>\n",
       "      <td>0</td>\n",
       "      <td>11</td>\n",
       "      <td>10803</td>\n",
       "    </tr>\n",
       "    <tr>\n",
       "      <th>1</th>\n",
       "      <td>2</td>\n",
       "      <td>2013-11-15 03:45:04</td>\n",
       "      <td>Poole Matthew</td>\n",
       "      <td>MatthewPoole@gustr.com</td>\n",
       "      <td>ORG_INVITE</td>\n",
       "      <td>2014-03-31 03:45:04</td>\n",
       "      <td>0</td>\n",
       "      <td>0</td>\n",
       "      <td>1</td>\n",
       "      <td>316</td>\n",
       "    </tr>\n",
       "    <tr>\n",
       "      <th>2</th>\n",
       "      <td>3</td>\n",
       "      <td>2013-03-19 23:14:52</td>\n",
       "      <td>Bottrill Mitchell</td>\n",
       "      <td>MitchellBottrill@gustr.com</td>\n",
       "      <td>ORG_INVITE</td>\n",
       "      <td>2013-03-19 23:14:52</td>\n",
       "      <td>0</td>\n",
       "      <td>0</td>\n",
       "      <td>94</td>\n",
       "      <td>1525</td>\n",
       "    </tr>\n",
       "    <tr>\n",
       "      <th>3</th>\n",
       "      <td>4</td>\n",
       "      <td>2013-05-21 08:09:28</td>\n",
       "      <td>Clausen Nicklas</td>\n",
       "      <td>NicklasSClausen@yahoo.com</td>\n",
       "      <td>GUEST_INVITE</td>\n",
       "      <td>2013-05-22 08:09:28</td>\n",
       "      <td>0</td>\n",
       "      <td>0</td>\n",
       "      <td>1</td>\n",
       "      <td>5151</td>\n",
       "    </tr>\n",
       "    <tr>\n",
       "      <th>4</th>\n",
       "      <td>5</td>\n",
       "      <td>2013-01-17 10:14:20</td>\n",
       "      <td>Raw Grace</td>\n",
       "      <td>GraceRaw@yahoo.com</td>\n",
       "      <td>GUEST_INVITE</td>\n",
       "      <td>2013-01-22 10:14:20</td>\n",
       "      <td>0</td>\n",
       "      <td>0</td>\n",
       "      <td>193</td>\n",
       "      <td>5240</td>\n",
       "    </tr>\n",
       "    <tr>\n",
       "      <th>...</th>\n",
       "      <td>...</td>\n",
       "      <td>...</td>\n",
       "      <td>...</td>\n",
       "      <td>...</td>\n",
       "      <td>...</td>\n",
       "      <td>...</td>\n",
       "      <td>...</td>\n",
       "      <td>...</td>\n",
       "      <td>...</td>\n",
       "      <td>...</td>\n",
       "    </tr>\n",
       "    <tr>\n",
       "      <th>11995</th>\n",
       "      <td>11996</td>\n",
       "      <td>2013-09-06 06:14:15</td>\n",
       "      <td>Meier Sophia</td>\n",
       "      <td>SophiaMeier@gustr.com</td>\n",
       "      <td>ORG_INVITE</td>\n",
       "      <td>2013-09-06 06:14:15</td>\n",
       "      <td>0</td>\n",
       "      <td>0</td>\n",
       "      <td>89</td>\n",
       "      <td>8263</td>\n",
       "    </tr>\n",
       "    <tr>\n",
       "      <th>11996</th>\n",
       "      <td>11997</td>\n",
       "      <td>2013-01-10 18:28:37</td>\n",
       "      <td>Fisher Amelie</td>\n",
       "      <td>AmelieFisher@gmail.com</td>\n",
       "      <td>SIGNUP_GOOGLE_AUTH</td>\n",
       "      <td>2013-01-15 18:28:37</td>\n",
       "      <td>0</td>\n",
       "      <td>0</td>\n",
       "      <td>200</td>\n",
       "      <td>0</td>\n",
       "    </tr>\n",
       "    <tr>\n",
       "      <th>11997</th>\n",
       "      <td>11998</td>\n",
       "      <td>2014-04-27 12:45:16</td>\n",
       "      <td>Haynes Jake</td>\n",
       "      <td>JakeHaynes@cuvox.de</td>\n",
       "      <td>GUEST_INVITE</td>\n",
       "      <td>2014-04-27 12:45:16</td>\n",
       "      <td>1</td>\n",
       "      <td>1</td>\n",
       "      <td>83</td>\n",
       "      <td>8074</td>\n",
       "    </tr>\n",
       "    <tr>\n",
       "      <th>11998</th>\n",
       "      <td>11999</td>\n",
       "      <td>2012-05-31 11:55:59</td>\n",
       "      <td>Faber Annett</td>\n",
       "      <td>mhaerzxp@iuxiw.com</td>\n",
       "      <td>PERSONAL_PROJECTS</td>\n",
       "      <td>2012-06-02 11:55:59</td>\n",
       "      <td>0</td>\n",
       "      <td>0</td>\n",
       "      <td>6</td>\n",
       "      <td>0</td>\n",
       "    </tr>\n",
       "    <tr>\n",
       "      <th>11999</th>\n",
       "      <td>12000</td>\n",
       "      <td>2014-01-26 08:57:12</td>\n",
       "      <td>Lima Thaís</td>\n",
       "      <td>ThaisMeloLima@hotmail.com</td>\n",
       "      <td>SIGNUP</td>\n",
       "      <td>2014-01-26 08:57:12</td>\n",
       "      <td>0</td>\n",
       "      <td>1</td>\n",
       "      <td>0</td>\n",
       "      <td>0</td>\n",
       "    </tr>\n",
       "  </tbody>\n",
       "</table>\n",
       "<p>12000 rows × 10 columns</p>\n",
       "</div>"
      ],
      "text/plain": [
       "       object_id       creation_time               name  \\\n",
       "0              1 2014-04-22 03:53:30     Clausen August   \n",
       "1              2 2013-11-15 03:45:04      Poole Matthew   \n",
       "2              3 2013-03-19 23:14:52  Bottrill Mitchell   \n",
       "3              4 2013-05-21 08:09:28    Clausen Nicklas   \n",
       "4              5 2013-01-17 10:14:20          Raw Grace   \n",
       "...          ...                 ...                ...   \n",
       "11995      11996 2013-09-06 06:14:15       Meier Sophia   \n",
       "11996      11997 2013-01-10 18:28:37      Fisher Amelie   \n",
       "11997      11998 2014-04-27 12:45:16        Haynes Jake   \n",
       "11998      11999 2012-05-31 11:55:59       Faber Annett   \n",
       "11999      12000 2014-01-26 08:57:12         Lima Thaís   \n",
       "\n",
       "                            email     creation_source  \\\n",
       "0        AugustCClausen@yahoo.com        GUEST_INVITE   \n",
       "1          MatthewPoole@gustr.com          ORG_INVITE   \n",
       "2      MitchellBottrill@gustr.com          ORG_INVITE   \n",
       "3       NicklasSClausen@yahoo.com        GUEST_INVITE   \n",
       "4              GraceRaw@yahoo.com        GUEST_INVITE   \n",
       "...                           ...                 ...   \n",
       "11995       SophiaMeier@gustr.com          ORG_INVITE   \n",
       "11996      AmelieFisher@gmail.com  SIGNUP_GOOGLE_AUTH   \n",
       "11997         JakeHaynes@cuvox.de        GUEST_INVITE   \n",
       "11998          mhaerzxp@iuxiw.com   PERSONAL_PROJECTS   \n",
       "11999   ThaisMeloLima@hotmail.com              SIGNUP   \n",
       "\n",
       "      last_session_creation_time  opted_in_to_mailing_list  \\\n",
       "0            2014-04-22 03:53:30                         1   \n",
       "1            2014-03-31 03:45:04                         0   \n",
       "2            2013-03-19 23:14:52                         0   \n",
       "3            2013-05-22 08:09:28                         0   \n",
       "4            2013-01-22 10:14:20                         0   \n",
       "...                          ...                       ...   \n",
       "11995        2013-09-06 06:14:15                         0   \n",
       "11996        2013-01-15 18:28:37                         0   \n",
       "11997        2014-04-27 12:45:16                         1   \n",
       "11998        2012-06-02 11:55:59                         0   \n",
       "11999        2014-01-26 08:57:12                         0   \n",
       "\n",
       "       enabled_for_marketing_drip  org_id  invited_by_user_id  \n",
       "0                               0      11               10803  \n",
       "1                               0       1                 316  \n",
       "2                               0      94                1525  \n",
       "3                               0       1                5151  \n",
       "4                               0     193                5240  \n",
       "...                           ...     ...                 ...  \n",
       "11995                           0      89                8263  \n",
       "11996                           0     200                   0  \n",
       "11997                           1      83                8074  \n",
       "11998                           0       6                   0  \n",
       "11999                           1       0                   0  \n",
       "\n",
       "[12000 rows x 10 columns]"
      ]
     },
     "execution_count": 15,
     "metadata": {},
     "output_type": "execute_result"
    }
   ],
   "source": [
    "users"
   ]
  },
  {
   "cell_type": "code",
   "execution_count": 16,
   "id": "123308a4",
   "metadata": {},
   "outputs": [],
   "source": [
    "# drop na for now\n",
    "# users_na = users.dropna()\n",
    "\n",
    "# Clean up columns\n",
    "#users_na['creation_time'] = pd.to_datetime(users_na['creation_time'], errors='raise', infer_datetime_format=True)\n",
    "#users_na['last_session_creation_time'] = pd.to_datetime(users_na['last_session_creation_time'], errors='raise', unit='s')\n",
    "#users_na['invited_by_user_id'] = users_na['invited_by_user_id'].astype(int)"
   ]
  },
  {
   "cell_type": "code",
   "execution_count": 17,
   "id": "e690bf8c",
   "metadata": {},
   "outputs": [
    {
     "name": "stdout",
     "output_type": "stream",
     "text": [
      "<class 'pandas.core.frame.DataFrame'>\n",
      "RangeIndex: 12000 entries, 0 to 11999\n",
      "Data columns (total 10 columns):\n",
      " #   Column                      Non-Null Count  Dtype         \n",
      "---  ------                      --------------  -----         \n",
      " 0   object_id                   12000 non-null  int64         \n",
      " 1   creation_time               12000 non-null  datetime64[ns]\n",
      " 2   name                        12000 non-null  object        \n",
      " 3   email                       12000 non-null  object        \n",
      " 4   creation_source             12000 non-null  object        \n",
      " 5   last_session_creation_time  8823 non-null   datetime64[ns]\n",
      " 6   opted_in_to_mailing_list    12000 non-null  int64         \n",
      " 7   enabled_for_marketing_drip  12000 non-null  int64         \n",
      " 8   org_id                      12000 non-null  int64         \n",
      " 9   invited_by_user_id          12000 non-null  int64         \n",
      "dtypes: datetime64[ns](2), int64(5), object(3)\n",
      "memory usage: 937.6+ KB\n"
     ]
    }
   ],
   "source": [
    "users.info()"
   ]
  },
  {
   "cell_type": "markdown",
   "id": "cc8596e1",
   "metadata": {},
   "source": [
    "## Target Feature \n",
    "Defining an \"adopted user\" as a user who has logged into the product on three separate days in at least one seven-day period, identify which factors predict future user adoption."
   ]
  },
  {
   "cell_type": "code",
   "execution_count": 18,
   "id": "3344737a",
   "metadata": {},
   "outputs": [],
   "source": [
    "def adopted_user(user_id):\n",
    "    \n",
    "    \"\"\"\n",
    "    accepts user_id as an argument of type int. \n",
    "    returns true if in the span of the user's history\n",
    "    if visits <= 3 for a period in the weekly frequency, it checks the span of that week in daily frequencies to check it each login occurs on an individual day in that week\n",
    "    if all is true then user is given status of \"adopted user\" bool:True\n",
    "    if visits <= 3, but there is more than one visit on a given day, move on to next date.\n",
    "    If nothing found return bool False\n",
    "    \"\"\"\n",
    "    # get user id history\n",
    "    user_engagement['time_stamp'] = pd.to_datetime(user_engagement['time_stamp'], errors='raise', infer_datetime_format=True)\n",
    "    history = user_engagement[user_engagement['user_id'] == user_id]\n",
    "    #assert history['time_stamp'] != 'Inde\n",
    "    # for debugging\n",
    "    #history\n",
    "    \n",
    "    # set bool check\n",
    "    is_good = True\n",
    "    \n",
    "    # downsample\n",
    "    weekly = history.set_index('time_stamp').resample(rule='w').sum()\n",
    "    daily = history.set_index('time_stamp').resample(rule='d').sum()\n",
    "    \n",
    "    # For each week over the number of total weeks\n",
    "    for i in range(len(weekly)):\n",
    "        \n",
    "        # if there are three or more visits in a given week\n",
    "        if weekly.iloc[i][1] >= 3:\n",
    "        \n",
    "        # Get the start day and end day of that week\n",
    "            good_week_start = weekly.iloc[i].name\n",
    "            good_week_end = good_week_start + pd.Timedelta('7 days')\n",
    "        \n",
    "        # Get the daily sample of the span of that week\n",
    "            week = daily.loc[good_week_start:good_week_end]\n",
    "        \n",
    "        # For each day in that given week\n",
    "            for j in range(len(week)):\n",
    "            \n",
    "            # if there is a day that has more than 1 visit (i.e. not distinct days)\n",
    "            # CHECK THIS!! SOMETING FEELS WRONG!!\n",
    "                if week.iloc[j][1] > 1:\n",
    "                \n",
    "                # Set off a flag\n",
    "                    is_good = False\n",
    "                # if that week met the criterion, return true\n",
    "            if is_good == True:\n",
    "                return True\n",
    "        \n",
    "            # Else reset the flag\n",
    "            else:\n",
    "                is_good = True\n",
    "# at the end there was nothing\n",
    "    return False"
   ]
  },
  {
   "cell_type": "code",
   "execution_count": 19,
   "id": "e97cc3e8",
   "metadata": {},
   "outputs": [],
   "source": [
    "# Important!\n",
    "users.set_index('object_id', inplace=True)"
   ]
  },
  {
   "cell_type": "code",
   "execution_count": 20,
   "id": "54ae87c7",
   "metadata": {},
   "outputs": [
    {
     "name": "stdout",
     "output_type": "stream",
     "text": [
      "CPU times: user 4min 43s, sys: 4.69 s, total: 4min 48s\n",
      "Wall time: 5min 5s\n"
     ]
    }
   ],
   "source": [
    "%%time\n",
    "# Generate Target\n",
    "# Takes ~ two minutes \n",
    "users['is_adopted'] = [adopted_user(user) for user in users.index]"
   ]
  },
  {
   "cell_type": "code",
   "execution_count": 21,
   "id": "cac9f565",
   "metadata": {},
   "outputs": [],
   "source": [
    "# Save my work\n",
    "#pd.to_pickle(users, './users_target.pkl')"
   ]
  },
  {
   "cell_type": "markdown",
   "id": "8756fe91",
   "metadata": {},
   "source": [
    "## Set Aside Test Data\n",
    "Need to check class imbalance to determine how to split the data"
   ]
  },
  {
   "cell_type": "code",
   "execution_count": 22,
   "id": "fd8664ef",
   "metadata": {},
   "outputs": [],
   "source": [
    "dataset = users.copy(deep=True)\n",
    "X, y = dataset.drop('is_adopted', axis=1), dataset['is_adopted']"
   ]
  },
  {
   "cell_type": "code",
   "execution_count": 23,
   "id": "c73aa730",
   "metadata": {},
   "outputs": [
    {
     "data": {
      "text/plain": [
       "False    2111\n",
       "True      289\n",
       "Name: is_adopted, dtype: int64"
      ]
     },
     "execution_count": 23,
     "metadata": {},
     "output_type": "execute_result"
    }
   ],
   "source": [
    "# 80/20 split leaves 289 of the minor class for the test data\n",
    "X_train, X_test, y_train, y_test = train_test_split(X, y, random_state=0, train_size=0.8, stratify=y)\n",
    "y_test.value_counts()"
   ]
  },
  {
   "cell_type": "code",
   "execution_count": 24,
   "id": "c2a75b85",
   "metadata": {},
   "outputs": [],
   "source": [
    "# Save Test Data And No Peeking!\n",
    "train = pd.concat([X_train, y_train], axis=1)\n",
    "test = pd.concat([X_test, y_test], axis=1)\n",
    "\n",
    "#pd.to_pickle(train, './train.pkl')\n",
    "#pd.to_pickle(test, './test.pkl')"
   ]
  },
  {
   "cell_type": "code",
   "execution_count": null,
   "id": "c6aed23b",
   "metadata": {},
   "outputs": [],
   "source": []
  },
  {
   "cell_type": "code",
   "execution_count": null,
   "id": "cb12dbe4",
   "metadata": {},
   "outputs": [],
   "source": []
  },
  {
   "cell_type": "markdown",
   "id": "e62efb63",
   "metadata": {},
   "source": [
    "## Feature Engineering"
   ]
  },
  {
   "cell_type": "code",
   "execution_count": 25,
   "id": "a35acbfa",
   "metadata": {},
   "outputs": [],
   "source": [
    "# Break down strings\n",
    "\n",
    "def decompose_email(address):\n",
    "    user, domain = address.split('@')\n",
    "    domain_name, ext = domain.split('.')\n",
    "    return user, domain_name, ext\n",
    "\n",
    "# Check is user_id has any red flags\n",
    "def flag_user(user_id):\n",
    "    flagged_id = train.loc[user_id]\n",
    "    full_name = flagged_id['name'].split()\n",
    "    username = flagged_id['username']\n",
    "    \n",
    "    for name in full_name:\n",
    "        #print(name)\n",
    "        if re.search(name, username):\n",
    "            return 0\n",
    "    return 1\n",
    "\n",
    "def flag_domain(user_id):\n",
    "    flagged_id =  train.loc[user_id]\n",
    "    domain = flagged_id['domain']\n",
    "    if domain =='flag':\n",
    "        return 1\n",
    "    return 0"
   ]
  },
  {
   "cell_type": "code",
   "execution_count": 26,
   "id": "4c59df01",
   "metadata": {},
   "outputs": [],
   "source": [
    "# Feature Engineering\n",
    "\n",
    "# Decomponose Emails Addresses\n",
    "\n",
    "username, domain, extension = [], [], []\n",
    "for i in range(len(train['email'])):\n",
    "    address = decompose_email(train['email'].iloc[i])\n",
    "    username.append(address[0])\n",
    "    domain.append(address[1])\n",
    "    extension.append(address[2])\n",
    "\n",
    "train['username'] = username\n",
    "train['domain'] = domain\n",
    "train['extention'] = extension\n",
    "\n",
    "# check for sketchy domains\n",
    "valid_domains = train['domain'].value_counts()[:6].index\n",
    "train['domain'] = train['domain'].apply(lambda x: x if x in valid_domains else 'flag')\n",
    "\n",
    "# Suspicious emails\n",
    "flags = []\n",
    "for user_id in train.index:\n",
    "    flags.append(flag_user(user_id))\n",
    " \n",
    "# Create flags\n",
    "train['flags_username'] = flags\n",
    "train['flags_domain'] = train['domain'].apply(lambda x: 1 if x =='flag' else 0)\n",
    "train['last_seen_active'] = today - train['last_session_creation_time']\n",
    "train['account_age'] = today - train['creation_time']\n",
    "#train[train['last_seen_active'].isna()]\n",
    "\n",
    "#train['account_age_days'] = train['account_age'].dt.days.fillna(0.0).astype(int)\n",
    "\n",
    "#days_old_flag = 550.0\n",
    "#ratio = train['flags'][train['account_age_days'] >=days_old_flag].value_counts()[1] / train['flags'][train['account_age_days'] >=days_old_flag].value_counts()[0]\n",
    "\n",
    "#print('flag to non-flag ratio {:.2f}'.format(ratio))"
   ]
  },
  {
   "cell_type": "code",
   "execution_count": 27,
   "id": "5f62f93f",
   "metadata": {},
   "outputs": [],
   "source": [
    "inactive_users = train[train['last_seen_active'].isnull()] \n",
    "active_users = train[train['last_seen_active'].notnull()] "
   ]
  },
  {
   "cell_type": "code",
   "execution_count": 28,
   "id": "11955c95",
   "metadata": {
    "scrolled": true
   },
   "outputs": [
    {
     "name": "stdout",
     "output_type": "stream",
     "text": [
      "percentage of flags for inactive users\n",
      "flags_username 0.13622152746761948\n",
      "flags_domain 0.13470115967885815\n"
     ]
    }
   ],
   "source": [
    "print('percentage of flags for inactive users')\n",
    "print('flags_username', inactive_users['flags_username'].value_counts()[1] / inactive_users['flags_username'].value_counts()[0])\n",
    "print('flags_domain', inactive_users['flags_domain'].value_counts()[1] / inactive_users['flags_domain'].value_counts()[0])\n"
   ]
  },
  {
   "cell_type": "code",
   "execution_count": 29,
   "id": "4878bc53",
   "metadata": {},
   "outputs": [
    {
     "name": "stdout",
     "output_type": "stream",
     "text": [
      "percentage of flags for inactive users\n",
      "flags_username 0.10198344526003436\n",
      "flags_domain 0.10181136789506559\n"
     ]
    }
   ],
   "source": [
    "print('percentage of flags for inactive users')\n",
    "print('flags_username', active_users['flags_username'].value_counts()[1] / active_users['flags_username'].value_counts()[0])\n",
    "print('flags_domain', active_users['flags_domain'].value_counts()[1] / active_users['flags_domain'].value_counts()[0])\n"
   ]
  },
  {
   "cell_type": "markdown",
   "id": "fa25d021",
   "metadata": {},
   "source": [
    "There is a ~5% increase in the ratio of flags for inative users to active ones for username, and a 3% increase from domains"
   ]
  },
  {
   "cell_type": "code",
   "execution_count": 30,
   "id": "b7586056",
   "metadata": {},
   "outputs": [],
   "source": [
    "inactive = train.loc[inactive_users.index]\n",
    "active = train.loc[active_users.index]\n",
    "inactive['last_seen_active'] = inactive['account_age'] \n",
    "inactive['flags_inactivity'] = 1\n",
    "active['flags_inactivity'] = 0\n",
    "\n",
    "train_new = pd.concat([active, inactive])\n",
    "train_new['last_seen_active'] = train_new['last_seen_active'].dt.days\n",
    "train_new['account_age'] = train_new['account_age'].dt.days"
   ]
  },
  {
   "cell_type": "code",
   "execution_count": null,
   "id": "48d3afff",
   "metadata": {},
   "outputs": [],
   "source": []
  },
  {
   "cell_type": "code",
   "execution_count": 31,
   "id": "bb5a3549",
   "metadata": {},
   "outputs": [],
   "source": [
    "features = [\n",
    "    'creation_source', \n",
    "              'opted_in_to_mailing_list', \n",
    "              'enabled_for_marketing_drip', \n",
    "              'org_id', \n",
    "              'invited_by_user_id', \n",
    "              'account_age',\n",
    "              'last_seen_active',\n",
    "              'flags_username', \n",
    "              'flags_domain',\n",
    "              'flags_inactivity',\n",
    "]"
   ]
  },
  {
   "cell_type": "code",
   "execution_count": 32,
   "id": "56ac2ee3",
   "metadata": {
    "scrolled": false
   },
   "outputs": [
    {
     "data": {
      "text/html": [
       "<div>\n",
       "<style scoped>\n",
       "    .dataframe tbody tr th:only-of-type {\n",
       "        vertical-align: middle;\n",
       "    }\n",
       "\n",
       "    .dataframe tbody tr th {\n",
       "        vertical-align: top;\n",
       "    }\n",
       "\n",
       "    .dataframe thead th {\n",
       "        text-align: right;\n",
       "    }\n",
       "</style>\n",
       "<table border=\"1\" class=\"dataframe\">\n",
       "  <thead>\n",
       "    <tr style=\"text-align: right;\">\n",
       "      <th></th>\n",
       "      <th>opted_in_to_mailing_list</th>\n",
       "      <th>enabled_for_marketing_drip</th>\n",
       "      <th>org_id</th>\n",
       "      <th>invited_by_user_id</th>\n",
       "      <th>account_age</th>\n",
       "      <th>last_seen_active</th>\n",
       "      <th>flags_username</th>\n",
       "      <th>flags_domain</th>\n",
       "      <th>flags_inactivity</th>\n",
       "    </tr>\n",
       "    <tr>\n",
       "      <th>creation_source</th>\n",
       "      <th></th>\n",
       "      <th></th>\n",
       "      <th></th>\n",
       "      <th></th>\n",
       "      <th></th>\n",
       "      <th></th>\n",
       "      <th></th>\n",
       "      <th></th>\n",
       "      <th></th>\n",
       "    </tr>\n",
       "  </thead>\n",
       "  <tbody>\n",
       "    <tr>\n",
       "      <th>GUEST_INVITE</th>\n",
       "      <td>422</td>\n",
       "      <td>252</td>\n",
       "      <td>241473</td>\n",
       "      <td>10051543</td>\n",
       "      <td>562866</td>\n",
       "      <td>467769</td>\n",
       "      <td>196</td>\n",
       "      <td>195</td>\n",
       "      <td>460</td>\n",
       "    </tr>\n",
       "    <tr>\n",
       "      <th>ORG_INVITE</th>\n",
       "      <td>877</td>\n",
       "      <td>522</td>\n",
       "      <td>483021</td>\n",
       "      <td>20850003</td>\n",
       "      <td>1106205</td>\n",
       "      <td>965063</td>\n",
       "      <td>382</td>\n",
       "      <td>379</td>\n",
       "      <td>878</td>\n",
       "    </tr>\n",
       "    <tr>\n",
       "      <th>PERSONAL_PROJECTS</th>\n",
       "      <td>394</td>\n",
       "      <td>236</td>\n",
       "      <td>239985</td>\n",
       "      <td>0</td>\n",
       "      <td>558991</td>\n",
       "      <td>518728</td>\n",
       "      <td>190</td>\n",
       "      <td>190</td>\n",
       "      <td>1054</td>\n",
       "    </tr>\n",
       "    <tr>\n",
       "      <th>SIGNUP</th>\n",
       "      <td>417</td>\n",
       "      <td>253</td>\n",
       "      <td>238319</td>\n",
       "      <td>0</td>\n",
       "      <td>518396</td>\n",
       "      <td>443488</td>\n",
       "      <td>190</td>\n",
       "      <td>190</td>\n",
       "      <td>152</td>\n",
       "    </tr>\n",
       "    <tr>\n",
       "      <th>SIGNUP_GOOGLE_AUTH</th>\n",
       "      <td>275</td>\n",
       "      <td>170</td>\n",
       "      <td>156425</td>\n",
       "      <td>0</td>\n",
       "      <td>358873</td>\n",
       "      <td>294294</td>\n",
       "      <td>0</td>\n",
       "      <td>0</td>\n",
       "      <td>0</td>\n",
       "    </tr>\n",
       "  </tbody>\n",
       "</table>\n",
       "</div>"
      ],
      "text/plain": [
       "                    opted_in_to_mailing_list  enabled_for_marketing_drip  \\\n",
       "creation_source                                                            \n",
       "GUEST_INVITE                             422                         252   \n",
       "ORG_INVITE                               877                         522   \n",
       "PERSONAL_PROJECTS                        394                         236   \n",
       "SIGNUP                                   417                         253   \n",
       "SIGNUP_GOOGLE_AUTH                       275                         170   \n",
       "\n",
       "                    org_id  invited_by_user_id  account_age  last_seen_active  \\\n",
       "creation_source                                                                 \n",
       "GUEST_INVITE        241473            10051543       562866            467769   \n",
       "ORG_INVITE          483021            20850003      1106205            965063   \n",
       "PERSONAL_PROJECTS   239985                   0       558991            518728   \n",
       "SIGNUP              238319                   0       518396            443488   \n",
       "SIGNUP_GOOGLE_AUTH  156425                   0       358873            294294   \n",
       "\n",
       "                    flags_username  flags_domain  flags_inactivity  \n",
       "creation_source                                                     \n",
       "GUEST_INVITE                   196           195               460  \n",
       "ORG_INVITE                     382           379               878  \n",
       "PERSONAL_PROJECTS              190           190              1054  \n",
       "SIGNUP                         190           190               152  \n",
       "SIGNUP_GOOGLE_AUTH               0             0                 0  "
      ]
     },
     "execution_count": 32,
     "metadata": {},
     "output_type": "execute_result"
    }
   ],
   "source": [
    "train_new[features].groupby('creation_source').sum()"
   ]
  },
  {
   "cell_type": "code",
   "execution_count": 33,
   "id": "bbcdc32e",
   "metadata": {
    "scrolled": true
   },
   "outputs": [
    {
     "name": "stderr",
     "output_type": "stream",
     "text": [
      "<ipython-input-33-44ed336d671a>:8: UserWarning: Boolean Series key will be reindexed to match DataFrame index.\n",
      "  flagged_organizations = org_id_flags[org_id_flags.sort_values(by='flags_total', ascending=False)['flags_total'] < 20.0]\n"
     ]
    }
   ],
   "source": [
    "flags_total = train_new[features].groupby('org_id').sum()[['flags_username', 'flags_domain', 'flags_inactivity']].sum(axis=1)\n",
    "org_id_flags = train_new[features].groupby('org_id').sum().sort_values(by='flags_inactivity', ascending=False)\n",
    "\n",
    "# sum all flags\n",
    "org_id_flags['flags_total'] = flags_total\n",
    "\n",
    "# Using a threshold of 20.0 total flags for cutoff (8.6% of total organizations)\n",
    "flagged_organizations = org_id_flags[org_id_flags.sort_values(by='flags_total', ascending=False)['flags_total'] < 20.0]\n",
    "bad_orgs = flagged_organizations.index\n"
   ]
  },
  {
   "cell_type": "code",
   "execution_count": 34,
   "id": "85dc43fa",
   "metadata": {},
   "outputs": [],
   "source": [
    "train_new['flags_org'] = 0\n",
    "train_new['flags_org'] = train_new['org_id'].apply(lambda x:1 if x in bad_orgs else 0)\n",
    "features.append('flags_org')\n",
    "top_spammers = train_new[features]['invited_by_user_id'].value_counts()[train_new[features]['invited_by_user_id'].value_counts() > 5].index\n",
    "train_new['flags_spammers'] = 0\n",
    "features.append('flags_spammers')"
   ]
  },
  {
   "cell_type": "code",
   "execution_count": 35,
   "id": "3d302cce",
   "metadata": {},
   "outputs": [
    {
     "data": {
      "text/plain": [
       "0        4439\n",
       "2527       11\n",
       "10481      10\n",
       "10741      10\n",
       "1525       10\n",
       "         ... \n",
       "11285       1\n",
       "5247        1\n",
       "6966        1\n",
       "4769        1\n",
       "4290        1\n",
       "Name: invited_by_user_id, Length: 2318, dtype: int64"
      ]
     },
     "execution_count": 35,
     "metadata": {},
     "output_type": "execute_result"
    }
   ],
   "source": [
    "\n",
    "\n",
    "train_new[features]['invited_by_user_id'].value_counts()"
   ]
  },
  {
   "cell_type": "code",
   "execution_count": 36,
   "id": "3c601b9e",
   "metadata": {
    "scrolled": true
   },
   "outputs": [
    {
     "name": "stderr",
     "output_type": "stream",
     "text": [
      "/Library/Frameworks/Python.framework/Versions/3.9/lib/python3.9/site-packages/pandas/core/indexing.py:1732: SettingWithCopyWarning: \n",
      "A value is trying to be set on a copy of a slice from a DataFrame\n",
      "\n",
      "See the caveats in the documentation: https://pandas.pydata.org/pandas-docs/stable/user_guide/indexing.html#returning-a-view-versus-a-copy\n",
      "  self._setitem_single_block(indexer, value, name)\n"
     ]
    }
   ],
   "source": [
    "for user_id in train_new.index:\n",
    "    flagged_id = train_new.loc[user_id]\n",
    "    org_id = flagged_id['org_id']\n",
    "    if (user_id in top_spammers )| (org_id in top_spammers):\n",
    "            train_new['flags_spammers'].loc[user_id] = 1\n",
    "            \n",
    "features.remove('invited_by_user_id')\n",
    "features.remove('creation_source')"
   ]
  },
  {
   "cell_type": "code",
   "execution_count": 37,
   "id": "fe720e64",
   "metadata": {},
   "outputs": [],
   "source": [
    "features = ['creation_time', 'name', 'email', 'creation_source',\n",
    "       'last_session_creation_time', 'opted_in_to_mailing_list',\n",
    "       'enabled_for_marketing_drip', 'org_id', 'invited_by_user_id',\n",
    "       'is_adopted', 'username', 'domain', 'extention', 'flags_username',\n",
    "       'flags_domain', 'last_seen_active', 'account_age', 'flags_inactivity',\n",
    "       'flags_org', 'flags_spammers']"
   ]
  },
  {
   "cell_type": "code",
   "execution_count": 38,
   "id": "500a62ec",
   "metadata": {},
   "outputs": [
    {
     "name": "stderr",
     "output_type": "stream",
     "text": [
      "<ipython-input-38-e6cb4d34f1e7>:1: UserWarning: Boolean Series key will be reindexed to match DataFrame index.\n",
      "  org_id_flags[org_id_flags.sort_values(by='flags_total', ascending=False)['flags_total'] < 20.0]\n"
     ]
    },
    {
     "data": {
      "text/html": [
       "<div>\n",
       "<style scoped>\n",
       "    .dataframe tbody tr th:only-of-type {\n",
       "        vertical-align: middle;\n",
       "    }\n",
       "\n",
       "    .dataframe tbody tr th {\n",
       "        vertical-align: top;\n",
       "    }\n",
       "\n",
       "    .dataframe thead th {\n",
       "        text-align: right;\n",
       "    }\n",
       "</style>\n",
       "<table border=\"1\" class=\"dataframe\">\n",
       "  <thead>\n",
       "    <tr style=\"text-align: right;\">\n",
       "      <th></th>\n",
       "      <th>opted_in_to_mailing_list</th>\n",
       "      <th>enabled_for_marketing_drip</th>\n",
       "      <th>invited_by_user_id</th>\n",
       "      <th>account_age</th>\n",
       "      <th>last_seen_active</th>\n",
       "      <th>flags_username</th>\n",
       "      <th>flags_domain</th>\n",
       "      <th>flags_inactivity</th>\n",
       "      <th>flags_total</th>\n",
       "    </tr>\n",
       "    <tr>\n",
       "      <th>org_id</th>\n",
       "      <th></th>\n",
       "      <th></th>\n",
       "      <th></th>\n",
       "      <th></th>\n",
       "      <th></th>\n",
       "      <th></th>\n",
       "      <th></th>\n",
       "      <th></th>\n",
       "      <th></th>\n",
       "    </tr>\n",
       "  </thead>\n",
       "  <tbody>\n",
       "    <tr>\n",
       "      <th>80</th>\n",
       "      <td>8</td>\n",
       "      <td>5</td>\n",
       "      <td>111982</td>\n",
       "      <td>9544</td>\n",
       "      <td>8763</td>\n",
       "      <td>3</td>\n",
       "      <td>3</td>\n",
       "      <td>12</td>\n",
       "      <td>18</td>\n",
       "    </tr>\n",
       "    <tr>\n",
       "      <th>49</th>\n",
       "      <td>8</td>\n",
       "      <td>5</td>\n",
       "      <td>90799</td>\n",
       "      <td>9964</td>\n",
       "      <td>8288</td>\n",
       "      <td>1</td>\n",
       "      <td>1</td>\n",
       "      <td>12</td>\n",
       "      <td>14</td>\n",
       "    </tr>\n",
       "    <tr>\n",
       "      <th>47</th>\n",
       "      <td>8</td>\n",
       "      <td>7</td>\n",
       "      <td>59099</td>\n",
       "      <td>11184</td>\n",
       "      <td>10161</td>\n",
       "      <td>2</td>\n",
       "      <td>2</td>\n",
       "      <td>12</td>\n",
       "      <td>16</td>\n",
       "    </tr>\n",
       "    <tr>\n",
       "      <th>95</th>\n",
       "      <td>12</td>\n",
       "      <td>6</td>\n",
       "      <td>133880</td>\n",
       "      <td>9146</td>\n",
       "      <td>7305</td>\n",
       "      <td>3</td>\n",
       "      <td>3</td>\n",
       "      <td>12</td>\n",
       "      <td>18</td>\n",
       "    </tr>\n",
       "    <tr>\n",
       "      <th>17</th>\n",
       "      <td>11</td>\n",
       "      <td>5</td>\n",
       "      <td>185472</td>\n",
       "      <td>18114</td>\n",
       "      <td>17158</td>\n",
       "      <td>2</td>\n",
       "      <td>2</td>\n",
       "      <td>12</td>\n",
       "      <td>16</td>\n",
       "    </tr>\n",
       "    <tr>\n",
       "      <th>...</th>\n",
       "      <td>...</td>\n",
       "      <td>...</td>\n",
       "      <td>...</td>\n",
       "      <td>...</td>\n",
       "      <td>...</td>\n",
       "      <td>...</td>\n",
       "      <td>...</td>\n",
       "      <td>...</td>\n",
       "      <td>...</td>\n",
       "    </tr>\n",
       "    <tr>\n",
       "      <th>150</th>\n",
       "      <td>3</td>\n",
       "      <td>2</td>\n",
       "      <td>29725</td>\n",
       "      <td>3079</td>\n",
       "      <td>2317</td>\n",
       "      <td>2</td>\n",
       "      <td>2</td>\n",
       "      <td>0</td>\n",
       "      <td>4</td>\n",
       "    </tr>\n",
       "    <tr>\n",
       "      <th>319</th>\n",
       "      <td>3</td>\n",
       "      <td>0</td>\n",
       "      <td>57128</td>\n",
       "      <td>2339</td>\n",
       "      <td>1832</td>\n",
       "      <td>0</td>\n",
       "      <td>0</td>\n",
       "      <td>0</td>\n",
       "      <td>0</td>\n",
       "    </tr>\n",
       "    <tr>\n",
       "      <th>354</th>\n",
       "      <td>1</td>\n",
       "      <td>2</td>\n",
       "      <td>18403</td>\n",
       "      <td>1489</td>\n",
       "      <td>1174</td>\n",
       "      <td>0</td>\n",
       "      <td>0</td>\n",
       "      <td>0</td>\n",
       "      <td>0</td>\n",
       "    </tr>\n",
       "    <tr>\n",
       "      <th>375</th>\n",
       "      <td>2</td>\n",
       "      <td>2</td>\n",
       "      <td>91540</td>\n",
       "      <td>4993</td>\n",
       "      <td>4441</td>\n",
       "      <td>3</td>\n",
       "      <td>3</td>\n",
       "      <td>0</td>\n",
       "      <td>6</td>\n",
       "    </tr>\n",
       "    <tr>\n",
       "      <th>416</th>\n",
       "      <td>0</td>\n",
       "      <td>1</td>\n",
       "      <td>0</td>\n",
       "      <td>624</td>\n",
       "      <td>624</td>\n",
       "      <td>0</td>\n",
       "      <td>0</td>\n",
       "      <td>0</td>\n",
       "      <td>0</td>\n",
       "    </tr>\n",
       "  </tbody>\n",
       "</table>\n",
       "<p>381 rows × 9 columns</p>\n",
       "</div>"
      ],
      "text/plain": [
       "        opted_in_to_mailing_list  enabled_for_marketing_drip  \\\n",
       "org_id                                                         \n",
       "80                             8                           5   \n",
       "49                             8                           5   \n",
       "47                             8                           7   \n",
       "95                            12                           6   \n",
       "17                            11                           5   \n",
       "...                          ...                         ...   \n",
       "150                            3                           2   \n",
       "319                            3                           0   \n",
       "354                            1                           2   \n",
       "375                            2                           2   \n",
       "416                            0                           1   \n",
       "\n",
       "        invited_by_user_id  account_age  last_seen_active  flags_username  \\\n",
       "org_id                                                                      \n",
       "80                  111982         9544              8763               3   \n",
       "49                   90799         9964              8288               1   \n",
       "47                   59099        11184             10161               2   \n",
       "95                  133880         9146              7305               3   \n",
       "17                  185472        18114             17158               2   \n",
       "...                    ...          ...               ...             ...   \n",
       "150                  29725         3079              2317               2   \n",
       "319                  57128         2339              1832               0   \n",
       "354                  18403         1489              1174               0   \n",
       "375                  91540         4993              4441               3   \n",
       "416                      0          624               624               0   \n",
       "\n",
       "        flags_domain  flags_inactivity  flags_total  \n",
       "org_id                                               \n",
       "80                 3                12           18  \n",
       "49                 1                12           14  \n",
       "47                 2                12           16  \n",
       "95                 3                12           18  \n",
       "17                 2                12           16  \n",
       "...              ...               ...          ...  \n",
       "150                2                 0            4  \n",
       "319                0                 0            0  \n",
       "354                0                 0            0  \n",
       "375                3                 0            6  \n",
       "416                0                 0            0  \n",
       "\n",
       "[381 rows x 9 columns]"
      ]
     },
     "execution_count": 38,
     "metadata": {},
     "output_type": "execute_result"
    }
   ],
   "source": [
    " org_id_flags[org_id_flags.sort_values(by='flags_total', ascending=False)['flags_total'] < 20.0]"
   ]
  },
  {
   "cell_type": "code",
   "execution_count": null,
   "id": "667455d8",
   "metadata": {},
   "outputs": [],
   "source": []
  },
  {
   "cell_type": "markdown",
   "id": "c3de82da",
   "metadata": {},
   "source": [
    "## Modeling"
   ]
  },
  {
   "cell_type": "code",
   "execution_count": 39,
   "id": "3a863060",
   "metadata": {},
   "outputs": [],
   "source": [
    "features = ['opted_in_to_mailing_list',\n",
    " 'enabled_for_marketing_drip',\n",
    " 'org_id',\n",
    " 'account_age',\n",
    " 'last_seen_active',\n",
    " 'flags_username',\n",
    " 'flags_domain',\n",
    " 'flags_inactivity',\n",
    " 'flags_org',\n",
    " 'flags_spammers']"
   ]
  },
  {
   "cell_type": "code",
   "execution_count": 40,
   "id": "9712eab2",
   "metadata": {},
   "outputs": [],
   "source": [
    "X = pd.concat([train_new[features], pd.get_dummies(train_new['creation_source'])], axis=1)"
   ]
  },
  {
   "cell_type": "code",
   "execution_count": 41,
   "id": "d4b45086",
   "metadata": {},
   "outputs": [],
   "source": [
    "y = train['is_adopted'].astype(int)"
   ]
  },
  {
   "cell_type": "code",
   "execution_count": 42,
   "id": "ba2a5202",
   "metadata": {},
   "outputs": [],
   "source": [
    "X_train, X_val, y_train, y_val = train_test_split(X, y, train_size=0.8, stratify=y, random_state=0)"
   ]
  },
  {
   "cell_type": "code",
   "execution_count": 43,
   "id": "69237a22",
   "metadata": {},
   "outputs": [],
   "source": [
    "from sklearn.preprocessing import StandardScaler, MinMaxScaler\n",
    "from sklearn.ensemble import RandomForestClassifier, GradientBoostingClassifier\n",
    "from sklearn.linear_model import LogisticRegression\n",
    "from sklearn.naive_bayes import MultinomialNB\n",
    "from sklearn.svm import SVC\n",
    "from sklearn.model_selection import GridSearchCV, RandomizedSearchCV, cross_validate\n",
    "from sklearn.metrics import classification_report, confusion_matrix, precision_recall_fscore_support\n",
    "from sklearn.pipeline import make_pipeline"
   ]
  },
  {
   "cell_type": "code",
   "execution_count": 44,
   "id": "38cda0bc",
   "metadata": {},
   "outputs": [],
   "source": [
    "#rf_pipe.get_params()"
   ]
  },
  {
   "cell_type": "markdown",
   "id": "386102e9",
   "metadata": {},
   "source": [
    "#### Random Forest"
   ]
  },
  {
   "cell_type": "code",
   "execution_count": 45,
   "id": "75307bab",
   "metadata": {
    "scrolled": true
   },
   "outputs": [
    {
     "name": "stdout",
     "output_type": "stream",
     "text": [
      "Fitting 5 folds for each of 15 candidates, totalling 75 fits\n"
     ]
    },
    {
     "name": "stderr",
     "output_type": "stream",
     "text": [
      "/Library/Frameworks/Python.framework/Versions/3.9/lib/python3.9/site-packages/sklearn/model_selection/_validation.py:372: FitFailedWarning: \n",
      "5 fits failed out of a total of 75.\n",
      "The score on these train-test partitions for these parameters will be set to nan.\n",
      "If these failures are not expected, you can try to debug them by setting error_score='raise'.\n",
      "\n",
      "Below are more details about the failures:\n",
      "--------------------------------------------------------------------------------\n",
      "5 fits failed with the following error:\n",
      "Traceback (most recent call last):\n",
      "  File \"/Library/Frameworks/Python.framework/Versions/3.9/lib/python3.9/site-packages/sklearn/model_selection/_validation.py\", line 681, in _fit_and_score\n",
      "    estimator.fit(X_train, y_train, **fit_params)\n",
      "  File \"/Library/Frameworks/Python.framework/Versions/3.9/lib/python3.9/site-packages/sklearn/pipeline.py\", line 394, in fit\n",
      "    self._final_estimator.fit(Xt, y, **fit_params_last_step)\n",
      "  File \"/Library/Frameworks/Python.framework/Versions/3.9/lib/python3.9/site-packages/sklearn/ensemble/_forest.py\", line 442, in fit\n",
      "    trees = Parallel(\n",
      "  File \"/Library/Frameworks/Python.framework/Versions/3.9/lib/python3.9/site-packages/joblib/parallel.py\", line 1056, in __call__\n",
      "    self.retrieve()\n",
      "  File \"/Library/Frameworks/Python.framework/Versions/3.9/lib/python3.9/site-packages/joblib/parallel.py\", line 935, in retrieve\n",
      "    self._output.extend(job.get(timeout=self.timeout))\n",
      "  File \"/Library/Frameworks/Python.framework/Versions/3.9/lib/python3.9/multiprocessing/pool.py\", line 771, in get\n",
      "    raise self._value\n",
      "  File \"/Library/Frameworks/Python.framework/Versions/3.9/lib/python3.9/multiprocessing/pool.py\", line 125, in worker\n",
      "    result = (True, func(*args, **kwds))\n",
      "  File \"/Library/Frameworks/Python.framework/Versions/3.9/lib/python3.9/site-packages/joblib/_parallel_backends.py\", line 595, in __call__\n",
      "    return self.func(*args, **kwargs)\n",
      "  File \"/Library/Frameworks/Python.framework/Versions/3.9/lib/python3.9/site-packages/joblib/parallel.py\", line 262, in __call__\n",
      "    return [func(*args, **kwargs)\n",
      "  File \"/Library/Frameworks/Python.framework/Versions/3.9/lib/python3.9/site-packages/joblib/parallel.py\", line 262, in <listcomp>\n",
      "    return [func(*args, **kwargs)\n",
      "  File \"/Library/Frameworks/Python.framework/Versions/3.9/lib/python3.9/site-packages/sklearn/utils/fixes.py\", line 211, in __call__\n",
      "    return self.function(*args, **kwargs)\n",
      "  File \"/Library/Frameworks/Python.framework/Versions/3.9/lib/python3.9/site-packages/sklearn/ensemble/_forest.py\", line 185, in _parallel_build_trees\n",
      "    tree.fit(X, y, sample_weight=curr_sample_weight, check_input=False)\n",
      "  File \"/Library/Frameworks/Python.framework/Versions/3.9/lib/python3.9/site-packages/sklearn/tree/_classes.py\", line 937, in fit\n",
      "    super().fit(\n",
      "  File \"/Library/Frameworks/Python.framework/Versions/3.9/lib/python3.9/site-packages/sklearn/tree/_classes.py\", line 314, in fit\n",
      "    raise ValueError(\n",
      "ValueError: max_leaf_nodes 1 must be either None or larger than 1\n",
      "\n",
      "  warnings.warn(some_fits_failed_message, FitFailedWarning)\n",
      "/Library/Frameworks/Python.framework/Versions/3.9/lib/python3.9/site-packages/sklearn/model_selection/_search.py:969: UserWarning: One or more of the test scores are non-finite: [0.5        0.5        0.5        0.5        0.5        0.5\n",
      " 0.5        0.49629384 0.5        0.5        0.5        0.5\n",
      " 0.5        0.49629384        nan]\n",
      "  warnings.warn(\n",
      "/Library/Frameworks/Python.framework/Versions/3.9/lib/python3.9/site-packages/sklearn/model_selection/_search.py:969: UserWarning: One or more of the train scores are non-finite: [0.5        0.5        0.5        0.5        0.5        0.5\n",
      " 0.5        0.51069848 0.5        0.5        0.5        0.5\n",
      " 0.5        0.51069848        nan]\n",
      "  warnings.warn(\n"
     ]
    },
    {
     "name": "stdout",
     "output_type": "stream",
     "text": [
      "CPU times: user 1.92 s, sys: 494 ms, total: 2.41 s\n",
      "Wall time: 47.4 s\n"
     ]
    },
    {
     "data": {
      "text/html": [
       "<div>\n",
       "<style scoped>\n",
       "    .dataframe tbody tr th:only-of-type {\n",
       "        vertical-align: middle;\n",
       "    }\n",
       "\n",
       "    .dataframe tbody tr th {\n",
       "        vertical-align: top;\n",
       "    }\n",
       "\n",
       "    .dataframe thead th {\n",
       "        text-align: right;\n",
       "    }\n",
       "</style>\n",
       "<table border=\"1\" class=\"dataframe\">\n",
       "  <thead>\n",
       "    <tr style=\"text-align: right;\">\n",
       "      <th></th>\n",
       "      <th>mean_train_score</th>\n",
       "      <th>mean_test_score</th>\n",
       "      <th>rank_test_score</th>\n",
       "    </tr>\n",
       "  </thead>\n",
       "  <tbody>\n",
       "    <tr>\n",
       "      <th>0</th>\n",
       "      <td>0.500000</td>\n",
       "      <td>0.500000</td>\n",
       "      <td>1</td>\n",
       "    </tr>\n",
       "    <tr>\n",
       "      <th>1</th>\n",
       "      <td>0.500000</td>\n",
       "      <td>0.500000</td>\n",
       "      <td>1</td>\n",
       "    </tr>\n",
       "    <tr>\n",
       "      <th>2</th>\n",
       "      <td>0.500000</td>\n",
       "      <td>0.500000</td>\n",
       "      <td>1</td>\n",
       "    </tr>\n",
       "    <tr>\n",
       "      <th>3</th>\n",
       "      <td>0.500000</td>\n",
       "      <td>0.500000</td>\n",
       "      <td>1</td>\n",
       "    </tr>\n",
       "    <tr>\n",
       "      <th>4</th>\n",
       "      <td>0.500000</td>\n",
       "      <td>0.500000</td>\n",
       "      <td>1</td>\n",
       "    </tr>\n",
       "    <tr>\n",
       "      <th>5</th>\n",
       "      <td>0.500000</td>\n",
       "      <td>0.500000</td>\n",
       "      <td>1</td>\n",
       "    </tr>\n",
       "    <tr>\n",
       "      <th>6</th>\n",
       "      <td>0.500000</td>\n",
       "      <td>0.500000</td>\n",
       "      <td>1</td>\n",
       "    </tr>\n",
       "    <tr>\n",
       "      <th>8</th>\n",
       "      <td>0.500000</td>\n",
       "      <td>0.500000</td>\n",
       "      <td>1</td>\n",
       "    </tr>\n",
       "    <tr>\n",
       "      <th>9</th>\n",
       "      <td>0.500000</td>\n",
       "      <td>0.500000</td>\n",
       "      <td>1</td>\n",
       "    </tr>\n",
       "    <tr>\n",
       "      <th>10</th>\n",
       "      <td>0.500000</td>\n",
       "      <td>0.500000</td>\n",
       "      <td>1</td>\n",
       "    </tr>\n",
       "    <tr>\n",
       "      <th>11</th>\n",
       "      <td>0.500000</td>\n",
       "      <td>0.500000</td>\n",
       "      <td>1</td>\n",
       "    </tr>\n",
       "    <tr>\n",
       "      <th>12</th>\n",
       "      <td>0.500000</td>\n",
       "      <td>0.500000</td>\n",
       "      <td>1</td>\n",
       "    </tr>\n",
       "    <tr>\n",
       "      <th>7</th>\n",
       "      <td>0.510698</td>\n",
       "      <td>0.496294</td>\n",
       "      <td>13</td>\n",
       "    </tr>\n",
       "    <tr>\n",
       "      <th>13</th>\n",
       "      <td>0.510698</td>\n",
       "      <td>0.496294</td>\n",
       "      <td>13</td>\n",
       "    </tr>\n",
       "    <tr>\n",
       "      <th>14</th>\n",
       "      <td>NaN</td>\n",
       "      <td>NaN</td>\n",
       "      <td>15</td>\n",
       "    </tr>\n",
       "  </tbody>\n",
       "</table>\n",
       "</div>"
      ],
      "text/plain": [
       "    mean_train_score  mean_test_score  rank_test_score\n",
       "0           0.500000         0.500000                1\n",
       "1           0.500000         0.500000                1\n",
       "2           0.500000         0.500000                1\n",
       "3           0.500000         0.500000                1\n",
       "4           0.500000         0.500000                1\n",
       "5           0.500000         0.500000                1\n",
       "6           0.500000         0.500000                1\n",
       "8           0.500000         0.500000                1\n",
       "9           0.500000         0.500000                1\n",
       "10          0.500000         0.500000                1\n",
       "11          0.500000         0.500000                1\n",
       "12          0.500000         0.500000                1\n",
       "7           0.510698         0.496294               13\n",
       "13          0.510698         0.496294               13\n",
       "14               NaN              NaN               15"
      ]
     },
     "execution_count": 45,
     "metadata": {},
     "output_type": "execute_result"
    }
   ],
   "source": [
    "%%time\n",
    "rf_pipe = make_pipeline(StandardScaler(), RandomForestClassifier(n_jobs=-1, class_weight='balanced', random_state=0, verbose=0))\n",
    "\n",
    "params_grid = {\n",
    " 'randomforestclassifier__max_depth': [None, 2, 20, 200],\n",
    " 'randomforestclassifier__max_leaf_nodes': [None, 1, 5, 10],\n",
    " 'randomforestclassifier__max_samples': [None, 2, 10, 20],\n",
    " 'randomforestclassifier__min_samples_leaf': [1, 4, 10],\n",
    " 'randomforestclassifier__min_samples_split': [2, 5, 10],\n",
    " 'randomforestclassifier__min_weight_fraction_leaf': [0.0, 0.2, 0.4],\n",
    " 'randomforestclassifier__n_estimators': [10, 100, 500, 1000],\n",
    "}\n",
    "\n",
    "rf_rcv = RandomizedSearchCV(rf_pipe, param_distributions=params_grid, scoring = 'balanced_accuracy', n_jobs=-1, return_train_score=True, cv=5, n_iter=15, verbose=1)\n",
    "rf_rcv.fit(X_train, y_train)\n",
    "results = pd.DataFrame(rf_rcv.cv_results_)[['mean_train_score', 'mean_test_score', 'rank_test_score']].sort_values(by='rank_test_score')\n",
    "results"
   ]
  },
  {
   "cell_type": "code",
   "execution_count": 46,
   "id": "43e19aef",
   "metadata": {},
   "outputs": [
    {
     "name": "stdout",
     "output_type": "stream",
     "text": [
      "              precision    recall  f1-score   support\n",
      "\n",
      "           0       0.88      1.00      0.94      1689\n",
      "           1       0.00      0.00      0.00       231\n",
      "\n",
      "    accuracy                           0.88      1920\n",
      "   macro avg       0.44      0.50      0.47      1920\n",
      "weighted avg       0.77      0.88      0.82      1920\n",
      "\n"
     ]
    },
    {
     "name": "stderr",
     "output_type": "stream",
     "text": [
      "/Library/Frameworks/Python.framework/Versions/3.9/lib/python3.9/site-packages/sklearn/metrics/_classification.py:1308: UndefinedMetricWarning: Precision and F-score are ill-defined and being set to 0.0 in labels with no predicted samples. Use `zero_division` parameter to control this behavior.\n",
      "  _warn_prf(average, modifier, msg_start, len(result))\n",
      "/Library/Frameworks/Python.framework/Versions/3.9/lib/python3.9/site-packages/sklearn/metrics/_classification.py:1308: UndefinedMetricWarning: Precision and F-score are ill-defined and being set to 0.0 in labels with no predicted samples. Use `zero_division` parameter to control this behavior.\n",
      "  _warn_prf(average, modifier, msg_start, len(result))\n",
      "/Library/Frameworks/Python.framework/Versions/3.9/lib/python3.9/site-packages/sklearn/metrics/_classification.py:1308: UndefinedMetricWarning: Precision and F-score are ill-defined and being set to 0.0 in labels with no predicted samples. Use `zero_division` parameter to control this behavior.\n",
      "  _warn_prf(average, modifier, msg_start, len(result))\n"
     ]
    }
   ],
   "source": [
    "# results\n",
    "y_pred = rf_rcv.predict(X_val)\n",
    "print(classification_report(y_val, y_pred))\n"
   ]
  },
  {
   "cell_type": "code",
   "execution_count": 47,
   "id": "c70a9660",
   "metadata": {},
   "outputs": [
    {
     "name": "stdout",
     "output_type": "stream",
     "text": [
      "CPU times: user 281 ms, sys: 47.8 ms, total: 328 ms\n",
      "Wall time: 309 ms\n"
     ]
    }
   ],
   "source": [
    "%%time\n",
    "lgr_pipe = make_pipeline(StandardScaler(), LogisticRegression(n_jobs=-1, class_weight='balanced', random_state=0, verbose=0))\n",
    "lgr_cv = cross_validate(lgr_pipe, X_train, y_train, cv=5, return_train_score=True, scoring='balanced_accuracy')"
   ]
  },
  {
   "cell_type": "code",
   "execution_count": 48,
   "id": "3260da43",
   "metadata": {},
   "outputs": [
    {
     "data": {
      "text/plain": [
       "{'memory': None,\n",
       " 'steps': [('standardscaler', StandardScaler()),\n",
       "  ('logisticregression',\n",
       "   LogisticRegression(class_weight='balanced', n_jobs=-1, random_state=0))],\n",
       " 'verbose': False,\n",
       " 'standardscaler': StandardScaler(),\n",
       " 'logisticregression': LogisticRegression(class_weight='balanced', n_jobs=-1, random_state=0),\n",
       " 'standardscaler__copy': True,\n",
       " 'standardscaler__with_mean': True,\n",
       " 'standardscaler__with_std': True,\n",
       " 'logisticregression__C': 1.0,\n",
       " 'logisticregression__class_weight': 'balanced',\n",
       " 'logisticregression__dual': False,\n",
       " 'logisticregression__fit_intercept': True,\n",
       " 'logisticregression__intercept_scaling': 1,\n",
       " 'logisticregression__l1_ratio': None,\n",
       " 'logisticregression__max_iter': 100,\n",
       " 'logisticregression__multi_class': 'auto',\n",
       " 'logisticregression__n_jobs': -1,\n",
       " 'logisticregression__penalty': 'l2',\n",
       " 'logisticregression__random_state': 0,\n",
       " 'logisticregression__solver': 'lbfgs',\n",
       " 'logisticregression__tol': 0.0001,\n",
       " 'logisticregression__verbose': 0,\n",
       " 'logisticregression__warm_start': False}"
      ]
     },
     "execution_count": 48,
     "metadata": {},
     "output_type": "execute_result"
    }
   ],
   "source": [
    "lgr_pipe.get_params()"
   ]
  },
  {
   "cell_type": "code",
   "execution_count": 49,
   "id": "a948e45c",
   "metadata": {},
   "outputs": [],
   "source": [
    "svm_penalties = np.logspace(-1,5,7)\n",
    "svm_gammas = np.logspace(-6,-3,3)\n",
    "svm_scalers = [MinMaxScaler()]\n",
    "smv_kernels = ['rbf', 'poly', 'sigmoid', 'linear']"
   ]
  },
  {
   "cell_type": "code",
   "execution_count": null,
   "id": "ef165cff",
   "metadata": {},
   "outputs": [],
   "source": []
  },
  {
   "cell_type": "code",
   "execution_count": 50,
   "id": "b7d2945e",
   "metadata": {},
   "outputs": [
    {
     "name": "stdout",
     "output_type": "stream",
     "text": [
      "Fitting 5 folds for each of 10 candidates, totalling 50 fits\n",
      "[LibSVM][CV 1/5] END svc__C=1.0, svc__degree=4, svc__gamma=1e-06, svc__kernel=poly;, score=(train=0.500, test=0.500) total time=   2.1s\n",
      "[LibSVM][CV 2/5] END svc__C=1.0, svc__degree=4, svc__gamma=1e-06, svc__kernel=poly;, score=(train=0.500, test=0.500) total time=   2.0s\n",
      "[LibSVM][CV 3/5] END svc__C=1.0, svc__degree=4, svc__gamma=1e-06, svc__kernel=poly;, score=(train=0.500, test=0.500) total time=   2.1s\n",
      "[LibSVM][CV 4/5] END svc__C=1.0, svc__degree=4, svc__gamma=1e-06, svc__kernel=poly;, score=(train=0.500, test=0.500) total time=   2.0s\n",
      "[LibSVM][CV 5/5] END svc__C=1.0, svc__degree=4, svc__gamma=1e-06, svc__kernel=poly;, score=(train=0.500, test=0.500) total time=   1.9s\n",
      "[LibSVM][CV 1/5] END svc__C=100000.0, svc__degree=6, svc__gamma=0.001, svc__kernel=poly;, score=(train=0.500, test=0.500) total time=   3.0s\n",
      "[LibSVM][CV 2/5] END svc__C=100000.0, svc__degree=6, svc__gamma=0.001, svc__kernel=poly;, score=(train=0.500, test=0.500) total time=   3.0s\n",
      "[LibSVM][CV 3/5] END svc__C=100000.0, svc__degree=6, svc__gamma=0.001, svc__kernel=poly;, score=(train=0.500, test=0.500) total time=   2.9s\n",
      "[LibSVM][CV 4/5] END svc__C=100000.0, svc__degree=6, svc__gamma=0.001, svc__kernel=poly;, score=(train=0.500, test=0.500) total time=   3.0s\n",
      "[LibSVM][CV 5/5] END svc__C=100000.0, svc__degree=6, svc__gamma=0.001, svc__kernel=poly;, score=(train=0.500, test=0.500) total time=   3.0s\n",
      "[LibSVM][CV 1/5] END svc__C=100.0, svc__degree=3, svc__gamma=0.001, svc__kernel=sigmoid;, score=(train=0.515, test=0.505) total time=   4.2s\n",
      "[LibSVM][CV 2/5] END svc__C=100.0, svc__degree=3, svc__gamma=0.001, svc__kernel=sigmoid;, score=(train=0.522, test=0.479) total time=   4.9s\n",
      "[LibSVM][CV 3/5] END svc__C=100.0, svc__degree=3, svc__gamma=0.001, svc__kernel=sigmoid;, score=(train=0.520, test=0.486) total time=   4.1s\n",
      "[LibSVM][CV 4/5] END svc__C=100.0, svc__degree=3, svc__gamma=0.001, svc__kernel=sigmoid;, score=(train=0.532, test=0.476) total time=   3.3s\n",
      "[LibSVM][CV 5/5] END svc__C=100.0, svc__degree=3, svc__gamma=0.001, svc__kernel=sigmoid;, score=(train=0.530, test=0.505) total time=   3.4s\n",
      "[LibSVM][CV 1/5] END svc__C=100.0, svc__degree=4, svc__gamma=3.1622776601683795e-05, svc__kernel=poly;, score=(train=0.500, test=0.500) total time=   3.1s\n",
      "[LibSVM][CV 2/5] END svc__C=100.0, svc__degree=4, svc__gamma=3.1622776601683795e-05, svc__kernel=poly;, score=(train=0.500, test=0.500) total time=   3.0s\n",
      "[LibSVM][CV 3/5] END svc__C=100.0, svc__degree=4, svc__gamma=3.1622776601683795e-05, svc__kernel=poly;, score=(train=0.500, test=0.500) total time=   3.2s\n",
      "[LibSVM][CV 4/5] END svc__C=100.0, svc__degree=4, svc__gamma=3.1622776601683795e-05, svc__kernel=poly;, score=(train=0.500, test=0.500) total time=   3.0s\n",
      "[LibSVM][CV 5/5] END svc__C=100.0, svc__degree=4, svc__gamma=3.1622776601683795e-05, svc__kernel=poly;, score=(train=0.500, test=0.500) total time=   2.9s\n",
      "[LibSVM][CV 1/5] END svc__C=10.0, svc__degree=4, svc__gamma=1e-06, svc__kernel=sigmoid;, score=(train=0.500, test=0.500) total time=   3.3s\n",
      "[LibSVM][CV 2/5] END svc__C=10.0, svc__degree=4, svc__gamma=1e-06, svc__kernel=sigmoid;, score=(train=0.500, test=0.500) total time=   3.0s\n",
      "[LibSVM][CV 3/5] END svc__C=10.0, svc__degree=4, svc__gamma=1e-06, svc__kernel=sigmoid;, score=(train=0.500, test=0.500) total time=   2.9s\n",
      "[LibSVM][CV 4/5] END svc__C=10.0, svc__degree=4, svc__gamma=1e-06, svc__kernel=sigmoid;, score=(train=0.500, test=0.500) total time=   3.1s\n",
      "[LibSVM][CV 5/5] END svc__C=10.0, svc__degree=4, svc__gamma=1e-06, svc__kernel=sigmoid;, score=(train=0.500, test=0.500) total time=   2.8s\n",
      "[LibSVM][CV 1/5] END svc__C=100000.0, svc__degree=2, svc__gamma=3.1622776601683795e-05, svc__kernel=poly;, score=(train=0.528, test=0.509) total time=   2.6s\n",
      "[LibSVM][CV 2/5] END svc__C=100000.0, svc__degree=2, svc__gamma=3.1622776601683795e-05, svc__kernel=poly;, score=(train=0.549, test=0.496) total time=   2.6s\n",
      "[LibSVM][CV 3/5] END svc__C=100000.0, svc__degree=2, svc__gamma=3.1622776601683795e-05, svc__kernel=poly;, score=(train=0.563, test=0.491) total time=   2.8s\n",
      "[LibSVM][CV 4/5] END svc__C=100000.0, svc__degree=2, svc__gamma=3.1622776601683795e-05, svc__kernel=poly;, score=(train=0.548, test=0.507) total time=   2.8s\n",
      "[LibSVM][CV 5/5] END svc__C=100000.0, svc__degree=2, svc__gamma=3.1622776601683795e-05, svc__kernel=poly;, score=(train=0.527, test=0.511) total time=   2.6s\n",
      "[LibSVM][CV 1/5] END svc__C=100.0, svc__degree=2, svc__gamma=1e-06, svc__kernel=sigmoid;, score=(train=0.500, test=0.500) total time=   3.0s\n",
      "[LibSVM][CV 2/5] END svc__C=100.0, svc__degree=2, svc__gamma=1e-06, svc__kernel=sigmoid;, score=(train=0.500, test=0.500) total time=   3.0s\n",
      "[LibSVM][CV 3/5] END svc__C=100.0, svc__degree=2, svc__gamma=1e-06, svc__kernel=sigmoid;, score=(train=0.500, test=0.500) total time=   3.1s\n",
      "[LibSVM][CV 4/5] END svc__C=100.0, svc__degree=2, svc__gamma=1e-06, svc__kernel=sigmoid;, score=(train=0.500, test=0.500) total time=   3.1s\n",
      "[LibSVM][CV 5/5] END svc__C=100.0, svc__degree=2, svc__gamma=1e-06, svc__kernel=sigmoid;, score=(train=0.500, test=0.500) total time=   3.4s\n",
      "[LibSVM][CV 1/5] END svc__C=10.0, svc__degree=4, svc__gamma=0.001, svc__kernel=poly;, score=(train=0.500, test=0.500) total time=   3.1s\n",
      "[LibSVM][CV 2/5] END svc__C=10.0, svc__degree=4, svc__gamma=0.001, svc__kernel=poly;, score=(train=0.500, test=0.500) total time=   3.0s\n",
      "[LibSVM][CV 3/5] END svc__C=10.0, svc__degree=4, svc__gamma=0.001, svc__kernel=poly;, score=(train=0.500, test=0.500) total time=   3.1s\n",
      "[LibSVM][CV 4/5] END svc__C=10.0, svc__degree=4, svc__gamma=0.001, svc__kernel=poly;, score=(train=0.500, test=0.500) total time=   3.1s\n",
      "[LibSVM][CV 5/5] END svc__C=10.0, svc__degree=4, svc__gamma=0.001, svc__kernel=poly;, score=(train=0.500, test=0.500) total time=   3.1s\n",
      "[LibSVM][CV 1/5] END svc__C=1.0, svc__degree=5, svc__gamma=1e-06, svc__kernel=poly;, score=(train=0.500, test=0.500) total time=   2.0s\n",
      "[LibSVM][CV 2/5] END svc__C=1.0, svc__degree=5, svc__gamma=1e-06, svc__kernel=poly;, score=(train=0.500, test=0.500) total time=   2.1s\n",
      "[LibSVM][CV 3/5] END svc__C=1.0, svc__degree=5, svc__gamma=1e-06, svc__kernel=poly;, score=(train=0.500, test=0.500) total time=   3.1s\n",
      "[LibSVM][CV 4/5] END svc__C=1.0, svc__degree=5, svc__gamma=1e-06, svc__kernel=poly;, score=(train=0.500, test=0.500) total time=   1.9s\n",
      "[LibSVM][CV 5/5] END svc__C=1.0, svc__degree=5, svc__gamma=1e-06, svc__kernel=poly;, score=(train=0.500, test=0.500) total time=   1.9s\n",
      "[LibSVM][CV 1/5] END svc__C=10000.0, svc__degree=6, svc__gamma=1e-06, svc__kernel=rbf;, score=(train=0.515, test=0.505) total time=   4.5s\n",
      "[LibSVM][CV 2/5] END svc__C=10000.0, svc__degree=6, svc__gamma=1e-06, svc__kernel=rbf;, score=(train=0.522, test=0.479) total time=   4.2s\n",
      "[LibSVM][CV 3/5] END svc__C=10000.0, svc__degree=6, svc__gamma=1e-06, svc__kernel=rbf;, score=(train=0.520, test=0.486) total time=   3.8s\n",
      "[LibSVM][CV 4/5] END svc__C=10000.0, svc__degree=6, svc__gamma=1e-06, svc__kernel=rbf;, score=(train=0.526, test=0.481) total time=   4.0s\n",
      "[LibSVM][CV 5/5] END svc__C=10000.0, svc__degree=6, svc__gamma=1e-06, svc__kernel=rbf;, score=(train=0.528, test=0.507) total time=   4.0s\n",
      "[LibSVM]CPU times: user 3min 43s, sys: 6.61 s, total: 3min 49s\n",
      "Wall time: 4min 1s\n"
     ]
    },
    {
     "data": {
      "text/html": [
       "<div>\n",
       "<style scoped>\n",
       "    .dataframe tbody tr th:only-of-type {\n",
       "        vertical-align: middle;\n",
       "    }\n",
       "\n",
       "    .dataframe tbody tr th {\n",
       "        vertical-align: top;\n",
       "    }\n",
       "\n",
       "    .dataframe thead th {\n",
       "        text-align: right;\n",
       "    }\n",
       "</style>\n",
       "<table border=\"1\" class=\"dataframe\">\n",
       "  <thead>\n",
       "    <tr style=\"text-align: right;\">\n",
       "      <th></th>\n",
       "      <th>mean_train_score</th>\n",
       "      <th>mean_test_score</th>\n",
       "      <th>rank_test_score</th>\n",
       "    </tr>\n",
       "  </thead>\n",
       "  <tbody>\n",
       "    <tr>\n",
       "      <th>5</th>\n",
       "      <td>0.543080</td>\n",
       "      <td>0.503069</td>\n",
       "      <td>1</td>\n",
       "    </tr>\n",
       "    <tr>\n",
       "      <th>0</th>\n",
       "      <td>0.500000</td>\n",
       "      <td>0.500000</td>\n",
       "      <td>2</td>\n",
       "    </tr>\n",
       "    <tr>\n",
       "      <th>1</th>\n",
       "      <td>0.500000</td>\n",
       "      <td>0.500000</td>\n",
       "      <td>2</td>\n",
       "    </tr>\n",
       "    <tr>\n",
       "      <th>3</th>\n",
       "      <td>0.500000</td>\n",
       "      <td>0.500000</td>\n",
       "      <td>2</td>\n",
       "    </tr>\n",
       "    <tr>\n",
       "      <th>4</th>\n",
       "      <td>0.500000</td>\n",
       "      <td>0.500000</td>\n",
       "      <td>2</td>\n",
       "    </tr>\n",
       "    <tr>\n",
       "      <th>6</th>\n",
       "      <td>0.500000</td>\n",
       "      <td>0.500000</td>\n",
       "      <td>2</td>\n",
       "    </tr>\n",
       "    <tr>\n",
       "      <th>7</th>\n",
       "      <td>0.500000</td>\n",
       "      <td>0.500000</td>\n",
       "      <td>2</td>\n",
       "    </tr>\n",
       "    <tr>\n",
       "      <th>8</th>\n",
       "      <td>0.500000</td>\n",
       "      <td>0.500000</td>\n",
       "      <td>2</td>\n",
       "    </tr>\n",
       "    <tr>\n",
       "      <th>9</th>\n",
       "      <td>0.522228</td>\n",
       "      <td>0.491440</td>\n",
       "      <td>9</td>\n",
       "    </tr>\n",
       "    <tr>\n",
       "      <th>2</th>\n",
       "      <td>0.523765</td>\n",
       "      <td>0.490056</td>\n",
       "      <td>10</td>\n",
       "    </tr>\n",
       "  </tbody>\n",
       "</table>\n",
       "</div>"
      ],
      "text/plain": [
       "   mean_train_score  mean_test_score  rank_test_score\n",
       "5          0.543080         0.503069                1\n",
       "0          0.500000         0.500000                2\n",
       "1          0.500000         0.500000                2\n",
       "3          0.500000         0.500000                2\n",
       "4          0.500000         0.500000                2\n",
       "6          0.500000         0.500000                2\n",
       "7          0.500000         0.500000                2\n",
       "8          0.500000         0.500000                2\n",
       "9          0.522228         0.491440                9\n",
       "2          0.523765         0.490056               10"
      ]
     },
     "execution_count": 50,
     "metadata": {},
     "output_type": "execute_result"
    }
   ],
   "source": [
    "%%time\n",
    "svm_pipe = make_pipeline(StandardScaler(), SVC( class_weight='balanced', random_state=0, verbose=3))\n",
    "\n",
    "param_grid = { \n",
    " 'svc__C':svm_penalties,\n",
    " 'svc__gamma': svm_gammas,\n",
    " 'svc__kernel': ['sigmoid', 'rbf', 'poly'],\n",
    " 'svc__degree':[2,3,4,5,6]\n",
    "}\n",
    "\n",
    "svm_rcv = RandomizedSearchCV(svm_pipe, \n",
    "                              param_distributions=param_grid, \n",
    "                              scoring='balanced_accuracy', \n",
    "                              return_train_score=True,\n",
    "                                    random_state=0,\n",
    "                            verbose=3\n",
    "                             )\n",
    "svm_rcv.fit(X_train, y_train)\n",
    "results = pd.DataFrame(svm_rcv.cv_results_)[['mean_train_score', 'mean_test_score', 'rank_test_score']].sort_values(by='rank_test_score')\n",
    "results"
   ]
  },
  {
   "cell_type": "code",
   "execution_count": 53,
   "id": "6555d09b",
   "metadata": {},
   "outputs": [
    {
     "name": "stdout",
     "output_type": "stream",
     "text": [
      "CPU times: user 3.28 s, sys: 81 ms, total: 3.36 s\n",
      "Wall time: 3.73 s\n"
     ]
    }
   ],
   "source": [
    "%%time\n",
    "gb_pipe = make_pipeline(StandardScaler(), GradientBoostingClassifier(random_state=0, verbose=0))\n",
    "gb_cv = cross_validate(gb_pipe, X_train, y_train, cv=5, return_train_score=True, scoring='balanced_accuracy')"
   ]
  },
  {
   "cell_type": "code",
   "execution_count": 54,
   "id": "255d573f",
   "metadata": {},
   "outputs": [
    {
     "data": {
      "text/plain": [
       "{'fit_time': array([0.62946892, 0.77502203, 0.67113209, 0.81107521, 0.73235297]),\n",
       " 'score_time': array([0.00744009, 0.00461698, 0.00441885, 0.00784588, 0.00494385]),\n",
       " 'test_score': array([0.50159241, 0.5       , 0.49888971, 0.50196251, 0.50429512]),\n",
       " 'train_score': array([0.50878378, 0.51013514, 0.50810811, 0.51081081, 0.50945946])}"
      ]
     },
     "execution_count": 54,
     "metadata": {},
     "output_type": "execute_result"
    }
   ],
   "source": [
    "gb_cv"
   ]
  },
  {
   "cell_type": "code",
   "execution_count": 56,
   "id": "c14a7a99",
   "metadata": {},
   "outputs": [],
   "source": [
    "# Looks like there are some smaps organizations"
   ]
  },
  {
   "cell_type": "code",
   "execution_count": null,
   "id": "098b734e",
   "metadata": {},
   "outputs": [],
   "source": []
  },
  {
   "cell_type": "code",
   "execution_count": null,
   "id": "09a704fb",
   "metadata": {},
   "outputs": [],
   "source": []
  }
 ],
 "metadata": {
  "kernelspec": {
   "display_name": "Python 3",
   "language": "python",
   "name": "python3"
  },
  "language_info": {
   "codemirror_mode": {
    "name": "ipython",
    "version": 3
   },
   "file_extension": ".py",
   "mimetype": "text/x-python",
   "name": "python",
   "nbconvert_exporter": "python",
   "pygments_lexer": "ipython3",
   "version": "3.9.4"
  }
 },
 "nbformat": 4,
 "nbformat_minor": 5
}
