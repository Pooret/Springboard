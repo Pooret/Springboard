{
 "cells": [
  {
   "cell_type": "code",
   "execution_count": 480,
   "id": "06b39b91",
   "metadata": {},
   "outputs": [],
   "source": [
    "# import libraries\n",
    "import pandas as pd\n",
    "import numpy as np\n",
    "import os\n",
    "import re\n",
    "\n",
    "# Feature Engineering\n",
    "from sklearn.model_selection import train_test_split\n",
    "\n",
    "# soundtrack - \n",
    "# Inspiration (Theme) : Relax, inc.\n",
    "##############\n",
    "# Snakes & Ladders - Single - Mzuki & Himalia\n",
    "# Situations - Escape This - Himalia\n",
    "# Transitions - World Alight (feat. Rhea) - Himalia\n",
    "# Kingdom (feat. Sakima) [Barefoot Remix] = Himalia\n",
    "##############\n",
    "\n",
    "# Where to save the figures (I adapted this from Aurelien Geron's code will fill in rest later)\n",
    "PROJECT_ROOT_DIR = \".\"\n",
    "PROJECT_ID = \"relax\"\n",
    "IMAGES_PATH = os.path.join(PROJECT_ROOT_DIR, \"images\", PROJECT_ID)\n",
    "#MODEL_PATH = os.path.join(PROJECT_ROOT_DIR, 'models', PROJECT_ID)\n",
    "#$os.makedirs(MODEL_PATH, exist_ok=True)\n",
    "os.makedirs(IMAGES_PATH, exist_ok=True)\n",
    "\n",
    "def save_fig(fig_id, tight_layout=True, fig_extension=\"png\", resolution=72):\n",
    "    \"\"\" \n",
    "    resolution quality\n",
    "    300 high \n",
    "    150 medium\n",
    "    72 low\n",
    "    \"\"\"\n",
    "    path = os.path.join(IMAGES_PATH, fig_id + \".\" + fig_extension)\n",
    "    print(\"Saving figure\", fig_id)\n",
    "    if tight_layout:\n",
    "        plt.tight_layout()\n",
    "    plt.savefig(path, format=fig_extension, dpi=resolution)"
   ]
  },
  {
   "cell_type": "code",
   "execution_count": 481,
   "id": "1da371cf",
   "metadata": {},
   "outputs": [],
   "source": [
    "# read in table, set encoding to latin-1 \n",
    "# see https://stackoverflow.com/questions/5552555/unicodedecodeerror-invalid-continuation-byte \n",
    "\n",
    "users = pd.read_csv('./takehome_users.csv', encoding='latin-1')\n",
    "user_engagement = pd.read_csv('./takehome_user_engagement.csv')"
   ]
  },
  {
   "cell_type": "markdown",
   "id": "2bd26b0d",
   "metadata": {},
   "source": [
    "table 1 \"takehome_users\" - 12,000 users who signed up for the product in the last two years:\n",
    "    \n",
    "    ● name: the user's name\n",
    "    ● object_id: the user's id\n",
    "    ● email: email address\n",
    "    ● creation_source: how their account was created. This takes on one of 5 values:\n",
    "        ○ PERSONAL_PROJECTS: invited to join another user's personal workspace\n",
    "        ○ GUEST_INVITE: invited to an organization as a guest (limited permissions)\n",
    "        ○ ORG_INVITE: invited to an organization (as a full member)\n",
    "        ○ SIGNUP: signed up via the website\n",
    "        ○ SIGNUP_GOOGLE_AUTH: signed up using Google Authentication (using a Google email account for their login id)\n",
    "    ● creation_time: when they created their account\n",
    "    ● last_session_creation_time: unix timestamp of last login\n",
    "    ● opted_in_to_mailing_list: whether they have opted into receiving marketing emails\n",
    "    ● enabled_for_marketing_drip: whether they are on the regular marketing email drip\n",
    "    ● org_id: the organization (group of users) they belong to\n",
    "    ● invited_by_user_id: which user invited them to join (if applicable).\n",
    "    ● is_adopted: target feature created by calling function is_adopted() on object_id (done here)\n",
    "    \n",
    "table 2 A usage summary table (\"takehome_user_engagement\") that has a row for each day that a user logged into the product.\n",
    "\n",
    "Task Defining an \"adopted user\" as a user who has logged into the product on three separate days in at least one seven-day period, identify which factors predict future user adoption."
   ]
  },
  {
   "cell_type": "markdown",
   "id": "47894e06",
   "metadata": {},
   "source": [
    "### Cleanup/Data Normalization"
   ]
  },
  {
   "cell_type": "code",
   "execution_count": 482,
   "id": "90a6465e",
   "metadata": {},
   "outputs": [
    {
     "data": {
      "text/plain": [
       "time_stamp    datetime64[ns]\n",
       "user_id                int64\n",
       "visited                int64\n",
       "dtype: object"
      ]
     },
     "execution_count": 482,
     "metadata": {},
     "output_type": "execute_result"
    }
   ],
   "source": [
    "# User engagement first\n",
    "\n",
    "user_engagement['time_stamp'] = pd.to_datetime(user_engagement['time_stamp'], errors='raise', infer_datetime_format=True)\n",
    "user_engagement.dtypes"
   ]
  },
  {
   "cell_type": "code",
   "execution_count": 483,
   "id": "ae61e7bf",
   "metadata": {},
   "outputs": [
    {
     "data": {
      "text/plain": [
       "time_stamp    0\n",
       "user_id       0\n",
       "visited       0\n",
       "dtype: int64"
      ]
     },
     "execution_count": 483,
     "metadata": {},
     "output_type": "execute_result"
    }
   ],
   "source": [
    "user_engagement.isna().sum()"
   ]
  },
  {
   "cell_type": "code",
   "execution_count": 484,
   "id": "1eb73200",
   "metadata": {
    "scrolled": true
   },
   "outputs": [
    {
     "data": {
      "text/plain": [
       "(207917, 3)"
      ]
     },
     "execution_count": 484,
     "metadata": {},
     "output_type": "execute_result"
    }
   ],
   "source": [
    "user_engagement.shape"
   ]
  },
  {
   "cell_type": "code",
   "execution_count": 485,
   "id": "2ef1c7f5",
   "metadata": {},
   "outputs": [
    {
     "data": {
      "text/html": [
       "<div>\n",
       "<style scoped>\n",
       "    .dataframe tbody tr th:only-of-type {\n",
       "        vertical-align: middle;\n",
       "    }\n",
       "\n",
       "    .dataframe tbody tr th {\n",
       "        vertical-align: top;\n",
       "    }\n",
       "\n",
       "    .dataframe thead th {\n",
       "        text-align: right;\n",
       "    }\n",
       "</style>\n",
       "<table border=\"1\" class=\"dataframe\">\n",
       "  <thead>\n",
       "    <tr style=\"text-align: right;\">\n",
       "      <th></th>\n",
       "      <th>time_stamp</th>\n",
       "      <th>user_id</th>\n",
       "      <th>visited</th>\n",
       "    </tr>\n",
       "  </thead>\n",
       "  <tbody>\n",
       "    <tr>\n",
       "      <th>0</th>\n",
       "      <td>2014-04-22 03:53:30</td>\n",
       "      <td>1</td>\n",
       "      <td>1</td>\n",
       "    </tr>\n",
       "    <tr>\n",
       "      <th>1</th>\n",
       "      <td>2013-11-15 03:45:04</td>\n",
       "      <td>2</td>\n",
       "      <td>1</td>\n",
       "    </tr>\n",
       "    <tr>\n",
       "      <th>2</th>\n",
       "      <td>2013-11-29 03:45:04</td>\n",
       "      <td>2</td>\n",
       "      <td>1</td>\n",
       "    </tr>\n",
       "    <tr>\n",
       "      <th>3</th>\n",
       "      <td>2013-12-09 03:45:04</td>\n",
       "      <td>2</td>\n",
       "      <td>1</td>\n",
       "    </tr>\n",
       "    <tr>\n",
       "      <th>4</th>\n",
       "      <td>2013-12-25 03:45:04</td>\n",
       "      <td>2</td>\n",
       "      <td>1</td>\n",
       "    </tr>\n",
       "  </tbody>\n",
       "</table>\n",
       "</div>"
      ],
      "text/plain": [
       "           time_stamp  user_id  visited\n",
       "0 2014-04-22 03:53:30        1        1\n",
       "1 2013-11-15 03:45:04        2        1\n",
       "2 2013-11-29 03:45:04        2        1\n",
       "3 2013-12-09 03:45:04        2        1\n",
       "4 2013-12-25 03:45:04        2        1"
      ]
     },
     "execution_count": 485,
     "metadata": {},
     "output_type": "execute_result"
    }
   ],
   "source": [
    "user_engagement.head()"
   ]
  },
  {
   "cell_type": "code",
   "execution_count": 486,
   "id": "6393281f",
   "metadata": {},
   "outputs": [
    {
     "data": {
      "text/plain": [
       "8823"
      ]
     },
     "execution_count": 486,
     "metadata": {},
     "output_type": "execute_result"
    }
   ],
   "source": [
    "# number of user ids\n",
    "user_engagement['user_id'].nunique()"
   ]
  },
  {
   "cell_type": "code",
   "execution_count": 487,
   "id": "847916cb",
   "metadata": {
    "scrolled": true
   },
   "outputs": [
    {
     "name": "stdout",
     "output_type": "stream",
     "text": [
      "<class 'pandas.core.frame.DataFrame'>\n",
      "RangeIndex: 12000 entries, 0 to 11999\n",
      "Data columns (total 10 columns):\n",
      " #   Column                      Non-Null Count  Dtype  \n",
      "---  ------                      --------------  -----  \n",
      " 0   object_id                   12000 non-null  int64  \n",
      " 1   creation_time               12000 non-null  object \n",
      " 2   name                        12000 non-null  object \n",
      " 3   email                       12000 non-null  object \n",
      " 4   creation_source             12000 non-null  object \n",
      " 5   last_session_creation_time  8823 non-null   float64\n",
      " 6   opted_in_to_mailing_list    12000 non-null  int64  \n",
      " 7   enabled_for_marketing_drip  12000 non-null  int64  \n",
      " 8   org_id                      12000 non-null  int64  \n",
      " 9   invited_by_user_id          6417 non-null   float64\n",
      "dtypes: float64(2), int64(4), object(4)\n",
      "memory usage: 937.6+ KB\n"
     ]
    }
   ],
   "source": [
    "# Users next\n",
    "\n",
    "users.info()"
   ]
  },
  {
   "cell_type": "code",
   "execution_count": 488,
   "id": "ce0a29e5",
   "metadata": {},
   "outputs": [
    {
     "data": {
      "text/html": [
       "<div>\n",
       "<style scoped>\n",
       "    .dataframe tbody tr th:only-of-type {\n",
       "        vertical-align: middle;\n",
       "    }\n",
       "\n",
       "    .dataframe tbody tr th {\n",
       "        vertical-align: top;\n",
       "    }\n",
       "\n",
       "    .dataframe thead th {\n",
       "        text-align: right;\n",
       "    }\n",
       "</style>\n",
       "<table border=\"1\" class=\"dataframe\">\n",
       "  <thead>\n",
       "    <tr style=\"text-align: right;\">\n",
       "      <th></th>\n",
       "      <th>object_id</th>\n",
       "      <th>creation_time</th>\n",
       "      <th>name</th>\n",
       "      <th>email</th>\n",
       "      <th>creation_source</th>\n",
       "      <th>last_session_creation_time</th>\n",
       "      <th>opted_in_to_mailing_list</th>\n",
       "      <th>enabled_for_marketing_drip</th>\n",
       "      <th>org_id</th>\n",
       "      <th>invited_by_user_id</th>\n",
       "    </tr>\n",
       "  </thead>\n",
       "  <tbody>\n",
       "    <tr>\n",
       "      <th>0</th>\n",
       "      <td>1</td>\n",
       "      <td>2014-04-22 03:53:30</td>\n",
       "      <td>Clausen August</td>\n",
       "      <td>AugustCClausen@yahoo.com</td>\n",
       "      <td>GUEST_INVITE</td>\n",
       "      <td>1.398139e+09</td>\n",
       "      <td>1</td>\n",
       "      <td>0</td>\n",
       "      <td>11</td>\n",
       "      <td>10803.0</td>\n",
       "    </tr>\n",
       "    <tr>\n",
       "      <th>1</th>\n",
       "      <td>2</td>\n",
       "      <td>2013-11-15 03:45:04</td>\n",
       "      <td>Poole Matthew</td>\n",
       "      <td>MatthewPoole@gustr.com</td>\n",
       "      <td>ORG_INVITE</td>\n",
       "      <td>1.396238e+09</td>\n",
       "      <td>0</td>\n",
       "      <td>0</td>\n",
       "      <td>1</td>\n",
       "      <td>316.0</td>\n",
       "    </tr>\n",
       "    <tr>\n",
       "      <th>2</th>\n",
       "      <td>3</td>\n",
       "      <td>2013-03-19 23:14:52</td>\n",
       "      <td>Bottrill Mitchell</td>\n",
       "      <td>MitchellBottrill@gustr.com</td>\n",
       "      <td>ORG_INVITE</td>\n",
       "      <td>1.363735e+09</td>\n",
       "      <td>0</td>\n",
       "      <td>0</td>\n",
       "      <td>94</td>\n",
       "      <td>1525.0</td>\n",
       "    </tr>\n",
       "    <tr>\n",
       "      <th>3</th>\n",
       "      <td>4</td>\n",
       "      <td>2013-05-21 08:09:28</td>\n",
       "      <td>Clausen Nicklas</td>\n",
       "      <td>NicklasSClausen@yahoo.com</td>\n",
       "      <td>GUEST_INVITE</td>\n",
       "      <td>1.369210e+09</td>\n",
       "      <td>0</td>\n",
       "      <td>0</td>\n",
       "      <td>1</td>\n",
       "      <td>5151.0</td>\n",
       "    </tr>\n",
       "    <tr>\n",
       "      <th>4</th>\n",
       "      <td>5</td>\n",
       "      <td>2013-01-17 10:14:20</td>\n",
       "      <td>Raw Grace</td>\n",
       "      <td>GraceRaw@yahoo.com</td>\n",
       "      <td>GUEST_INVITE</td>\n",
       "      <td>1.358850e+09</td>\n",
       "      <td>0</td>\n",
       "      <td>0</td>\n",
       "      <td>193</td>\n",
       "      <td>5240.0</td>\n",
       "    </tr>\n",
       "  </tbody>\n",
       "</table>\n",
       "</div>"
      ],
      "text/plain": [
       "   object_id        creation_time               name  \\\n",
       "0          1  2014-04-22 03:53:30     Clausen August   \n",
       "1          2  2013-11-15 03:45:04      Poole Matthew   \n",
       "2          3  2013-03-19 23:14:52  Bottrill Mitchell   \n",
       "3          4  2013-05-21 08:09:28    Clausen Nicklas   \n",
       "4          5  2013-01-17 10:14:20          Raw Grace   \n",
       "\n",
       "                        email creation_source  last_session_creation_time  \\\n",
       "0    AugustCClausen@yahoo.com    GUEST_INVITE                1.398139e+09   \n",
       "1      MatthewPoole@gustr.com      ORG_INVITE                1.396238e+09   \n",
       "2  MitchellBottrill@gustr.com      ORG_INVITE                1.363735e+09   \n",
       "3   NicklasSClausen@yahoo.com    GUEST_INVITE                1.369210e+09   \n",
       "4          GraceRaw@yahoo.com    GUEST_INVITE                1.358850e+09   \n",
       "\n",
       "   opted_in_to_mailing_list  enabled_for_marketing_drip  org_id  \\\n",
       "0                         1                           0      11   \n",
       "1                         0                           0       1   \n",
       "2                         0                           0      94   \n",
       "3                         0                           0       1   \n",
       "4                         0                           0     193   \n",
       "\n",
       "   invited_by_user_id  \n",
       "0             10803.0  \n",
       "1               316.0  \n",
       "2              1525.0  \n",
       "3              5151.0  \n",
       "4              5240.0  "
      ]
     },
     "execution_count": 488,
     "metadata": {},
     "output_type": "execute_result"
    }
   ],
   "source": [
    "users.head()"
   ]
  },
  {
   "cell_type": "code",
   "execution_count": 489,
   "id": "f8d88605",
   "metadata": {},
   "outputs": [
    {
     "data": {
      "text/plain": [
       "PERSONAL_PROJECTS    1347\n",
       "ORG_INVITE           1066\n",
       "GUEST_INVITE          575\n",
       "SIGNUP                189\n",
       "Name: creation_source, dtype: int64"
      ]
     },
     "execution_count": 489,
     "metadata": {},
     "output_type": "execute_result"
    }
   ],
   "source": [
    "\n",
    "users['creation_source'][users['last_session_creation_time'].isna()].value_counts()"
   ]
  },
  {
   "cell_type": "code",
   "execution_count": 490,
   "id": "e125091d",
   "metadata": {},
   "outputs": [
    {
     "data": {
      "text/plain": [
       "ORG_INVITE            4254\n",
       "GUEST_INVITE          2163\n",
       "PERSONAL_PROJECTS     2111\n",
       "SIGNUP                2087\n",
       "SIGNUP_GOOGLE_AUTH    1385\n",
       "Name: creation_source, dtype: int64"
      ]
     },
     "execution_count": 490,
     "metadata": {},
     "output_type": "execute_result"
    }
   ],
   "source": [
    "users['creation_source'].value_counts()"
   ]
  },
  {
   "cell_type": "code",
   "execution_count": 491,
   "id": "30e936b0",
   "metadata": {},
   "outputs": [
    {
     "data": {
      "text/plain": [
       "object_id                     0.00000\n",
       "creation_time                 0.00000\n",
       "name                          0.00000\n",
       "email                         0.00000\n",
       "creation_source               0.00000\n",
       "last_session_creation_time    0.26475\n",
       "opted_in_to_mailing_list      0.00000\n",
       "enabled_for_marketing_drip    0.00000\n",
       "org_id                        0.00000\n",
       "invited_by_user_id            0.46525\n",
       "dtype: float64"
      ]
     },
     "execution_count": 491,
     "metadata": {},
     "output_type": "execute_result"
    }
   ],
   "source": [
    "# Cool, this was by accident but I'm resusing this for looking at percentages of missing values in a feature\n",
    "users.isna().sum() / len(users)"
   ]
  },
  {
   "cell_type": "markdown",
   "id": "aab435b1",
   "metadata": {},
   "source": [
    "Cleaning "
   ]
  },
  {
   "cell_type": "code",
   "execution_count": 492,
   "id": "3e598009",
   "metadata": {},
   "outputs": [],
   "source": [
    "users['creation_time'] = pd.to_datetime(users['creation_time'], errors='raise', infer_datetime_format=True)\n",
    "users['last_session_creation_time'] = pd.to_datetime(users['last_session_creation_time'], errors='raise', unit='s')\n",
    "users['invited_by_user_id'] = users['invited_by_user_id'].fillna(value=0).astype(int)"
   ]
  },
  {
   "cell_type": "code",
   "execution_count": 493,
   "id": "64135b97",
   "metadata": {},
   "outputs": [
    {
     "data": {
      "text/html": [
       "<div>\n",
       "<style scoped>\n",
       "    .dataframe tbody tr th:only-of-type {\n",
       "        vertical-align: middle;\n",
       "    }\n",
       "\n",
       "    .dataframe tbody tr th {\n",
       "        vertical-align: top;\n",
       "    }\n",
       "\n",
       "    .dataframe thead th {\n",
       "        text-align: right;\n",
       "    }\n",
       "</style>\n",
       "<table border=\"1\" class=\"dataframe\">\n",
       "  <thead>\n",
       "    <tr style=\"text-align: right;\">\n",
       "      <th></th>\n",
       "      <th>object_id</th>\n",
       "      <th>creation_time</th>\n",
       "      <th>name</th>\n",
       "      <th>email</th>\n",
       "      <th>creation_source</th>\n",
       "      <th>last_session_creation_time</th>\n",
       "      <th>opted_in_to_mailing_list</th>\n",
       "      <th>enabled_for_marketing_drip</th>\n",
       "      <th>org_id</th>\n",
       "      <th>invited_by_user_id</th>\n",
       "    </tr>\n",
       "  </thead>\n",
       "  <tbody>\n",
       "    <tr>\n",
       "      <th>0</th>\n",
       "      <td>1</td>\n",
       "      <td>2014-04-22 03:53:30</td>\n",
       "      <td>Clausen August</td>\n",
       "      <td>AugustCClausen@yahoo.com</td>\n",
       "      <td>GUEST_INVITE</td>\n",
       "      <td>2014-04-22 03:53:30</td>\n",
       "      <td>1</td>\n",
       "      <td>0</td>\n",
       "      <td>11</td>\n",
       "      <td>10803</td>\n",
       "    </tr>\n",
       "    <tr>\n",
       "      <th>1</th>\n",
       "      <td>2</td>\n",
       "      <td>2013-11-15 03:45:04</td>\n",
       "      <td>Poole Matthew</td>\n",
       "      <td>MatthewPoole@gustr.com</td>\n",
       "      <td>ORG_INVITE</td>\n",
       "      <td>2014-03-31 03:45:04</td>\n",
       "      <td>0</td>\n",
       "      <td>0</td>\n",
       "      <td>1</td>\n",
       "      <td>316</td>\n",
       "    </tr>\n",
       "    <tr>\n",
       "      <th>2</th>\n",
       "      <td>3</td>\n",
       "      <td>2013-03-19 23:14:52</td>\n",
       "      <td>Bottrill Mitchell</td>\n",
       "      <td>MitchellBottrill@gustr.com</td>\n",
       "      <td>ORG_INVITE</td>\n",
       "      <td>2013-03-19 23:14:52</td>\n",
       "      <td>0</td>\n",
       "      <td>0</td>\n",
       "      <td>94</td>\n",
       "      <td>1525</td>\n",
       "    </tr>\n",
       "    <tr>\n",
       "      <th>3</th>\n",
       "      <td>4</td>\n",
       "      <td>2013-05-21 08:09:28</td>\n",
       "      <td>Clausen Nicklas</td>\n",
       "      <td>NicklasSClausen@yahoo.com</td>\n",
       "      <td>GUEST_INVITE</td>\n",
       "      <td>2013-05-22 08:09:28</td>\n",
       "      <td>0</td>\n",
       "      <td>0</td>\n",
       "      <td>1</td>\n",
       "      <td>5151</td>\n",
       "    </tr>\n",
       "    <tr>\n",
       "      <th>4</th>\n",
       "      <td>5</td>\n",
       "      <td>2013-01-17 10:14:20</td>\n",
       "      <td>Raw Grace</td>\n",
       "      <td>GraceRaw@yahoo.com</td>\n",
       "      <td>GUEST_INVITE</td>\n",
       "      <td>2013-01-22 10:14:20</td>\n",
       "      <td>0</td>\n",
       "      <td>0</td>\n",
       "      <td>193</td>\n",
       "      <td>5240</td>\n",
       "    </tr>\n",
       "    <tr>\n",
       "      <th>...</th>\n",
       "      <td>...</td>\n",
       "      <td>...</td>\n",
       "      <td>...</td>\n",
       "      <td>...</td>\n",
       "      <td>...</td>\n",
       "      <td>...</td>\n",
       "      <td>...</td>\n",
       "      <td>...</td>\n",
       "      <td>...</td>\n",
       "      <td>...</td>\n",
       "    </tr>\n",
       "    <tr>\n",
       "      <th>11995</th>\n",
       "      <td>11996</td>\n",
       "      <td>2013-09-06 06:14:15</td>\n",
       "      <td>Meier Sophia</td>\n",
       "      <td>SophiaMeier@gustr.com</td>\n",
       "      <td>ORG_INVITE</td>\n",
       "      <td>2013-09-06 06:14:15</td>\n",
       "      <td>0</td>\n",
       "      <td>0</td>\n",
       "      <td>89</td>\n",
       "      <td>8263</td>\n",
       "    </tr>\n",
       "    <tr>\n",
       "      <th>11996</th>\n",
       "      <td>11997</td>\n",
       "      <td>2013-01-10 18:28:37</td>\n",
       "      <td>Fisher Amelie</td>\n",
       "      <td>AmelieFisher@gmail.com</td>\n",
       "      <td>SIGNUP_GOOGLE_AUTH</td>\n",
       "      <td>2013-01-15 18:28:37</td>\n",
       "      <td>0</td>\n",
       "      <td>0</td>\n",
       "      <td>200</td>\n",
       "      <td>0</td>\n",
       "    </tr>\n",
       "    <tr>\n",
       "      <th>11997</th>\n",
       "      <td>11998</td>\n",
       "      <td>2014-04-27 12:45:16</td>\n",
       "      <td>Haynes Jake</td>\n",
       "      <td>JakeHaynes@cuvox.de</td>\n",
       "      <td>GUEST_INVITE</td>\n",
       "      <td>2014-04-27 12:45:16</td>\n",
       "      <td>1</td>\n",
       "      <td>1</td>\n",
       "      <td>83</td>\n",
       "      <td>8074</td>\n",
       "    </tr>\n",
       "    <tr>\n",
       "      <th>11998</th>\n",
       "      <td>11999</td>\n",
       "      <td>2012-05-31 11:55:59</td>\n",
       "      <td>Faber Annett</td>\n",
       "      <td>mhaerzxp@iuxiw.com</td>\n",
       "      <td>PERSONAL_PROJECTS</td>\n",
       "      <td>2012-06-02 11:55:59</td>\n",
       "      <td>0</td>\n",
       "      <td>0</td>\n",
       "      <td>6</td>\n",
       "      <td>0</td>\n",
       "    </tr>\n",
       "    <tr>\n",
       "      <th>11999</th>\n",
       "      <td>12000</td>\n",
       "      <td>2014-01-26 08:57:12</td>\n",
       "      <td>Lima Thaís</td>\n",
       "      <td>ThaisMeloLima@hotmail.com</td>\n",
       "      <td>SIGNUP</td>\n",
       "      <td>2014-01-26 08:57:12</td>\n",
       "      <td>0</td>\n",
       "      <td>1</td>\n",
       "      <td>0</td>\n",
       "      <td>0</td>\n",
       "    </tr>\n",
       "  </tbody>\n",
       "</table>\n",
       "<p>12000 rows × 10 columns</p>\n",
       "</div>"
      ],
      "text/plain": [
       "       object_id       creation_time               name  \\\n",
       "0              1 2014-04-22 03:53:30     Clausen August   \n",
       "1              2 2013-11-15 03:45:04      Poole Matthew   \n",
       "2              3 2013-03-19 23:14:52  Bottrill Mitchell   \n",
       "3              4 2013-05-21 08:09:28    Clausen Nicklas   \n",
       "4              5 2013-01-17 10:14:20          Raw Grace   \n",
       "...          ...                 ...                ...   \n",
       "11995      11996 2013-09-06 06:14:15       Meier Sophia   \n",
       "11996      11997 2013-01-10 18:28:37      Fisher Amelie   \n",
       "11997      11998 2014-04-27 12:45:16        Haynes Jake   \n",
       "11998      11999 2012-05-31 11:55:59       Faber Annett   \n",
       "11999      12000 2014-01-26 08:57:12         Lima Thaís   \n",
       "\n",
       "                            email     creation_source  \\\n",
       "0        AugustCClausen@yahoo.com        GUEST_INVITE   \n",
       "1          MatthewPoole@gustr.com          ORG_INVITE   \n",
       "2      MitchellBottrill@gustr.com          ORG_INVITE   \n",
       "3       NicklasSClausen@yahoo.com        GUEST_INVITE   \n",
       "4              GraceRaw@yahoo.com        GUEST_INVITE   \n",
       "...                           ...                 ...   \n",
       "11995       SophiaMeier@gustr.com          ORG_INVITE   \n",
       "11996      AmelieFisher@gmail.com  SIGNUP_GOOGLE_AUTH   \n",
       "11997         JakeHaynes@cuvox.de        GUEST_INVITE   \n",
       "11998          mhaerzxp@iuxiw.com   PERSONAL_PROJECTS   \n",
       "11999   ThaisMeloLima@hotmail.com              SIGNUP   \n",
       "\n",
       "      last_session_creation_time  opted_in_to_mailing_list  \\\n",
       "0            2014-04-22 03:53:30                         1   \n",
       "1            2014-03-31 03:45:04                         0   \n",
       "2            2013-03-19 23:14:52                         0   \n",
       "3            2013-05-22 08:09:28                         0   \n",
       "4            2013-01-22 10:14:20                         0   \n",
       "...                          ...                       ...   \n",
       "11995        2013-09-06 06:14:15                         0   \n",
       "11996        2013-01-15 18:28:37                         0   \n",
       "11997        2014-04-27 12:45:16                         1   \n",
       "11998        2012-06-02 11:55:59                         0   \n",
       "11999        2014-01-26 08:57:12                         0   \n",
       "\n",
       "       enabled_for_marketing_drip  org_id  invited_by_user_id  \n",
       "0                               0      11               10803  \n",
       "1                               0       1                 316  \n",
       "2                               0      94                1525  \n",
       "3                               0       1                5151  \n",
       "4                               0     193                5240  \n",
       "...                           ...     ...                 ...  \n",
       "11995                           0      89                8263  \n",
       "11996                           0     200                   0  \n",
       "11997                           1      83                8074  \n",
       "11998                           0       6                   0  \n",
       "11999                           1       0                   0  \n",
       "\n",
       "[12000 rows x 10 columns]"
      ]
     },
     "execution_count": 493,
     "metadata": {},
     "output_type": "execute_result"
    }
   ],
   "source": [
    "users"
   ]
  },
  {
   "cell_type": "code",
   "execution_count": 494,
   "id": "4a463284",
   "metadata": {},
   "outputs": [],
   "source": [
    "# drop na for now\n",
    "# users_na = users.dropna()\n",
    "\n",
    "# Clean up columns\n",
    "#users_na['creation_time'] = pd.to_datetime(users_na['creation_time'], errors='raise', infer_datetime_format=True)\n",
    "#users_na['last_session_creation_time'] = pd.to_datetime(users_na['last_session_creation_time'], errors='raise', unit='s')\n",
    "#users_na['invited_by_user_id'] = users_na['invited_by_user_id'].astype(int)"
   ]
  },
  {
   "cell_type": "code",
   "execution_count": 495,
   "id": "0ad1a858",
   "metadata": {},
   "outputs": [
    {
     "name": "stdout",
     "output_type": "stream",
     "text": [
      "<class 'pandas.core.frame.DataFrame'>\n",
      "RangeIndex: 12000 entries, 0 to 11999\n",
      "Data columns (total 10 columns):\n",
      " #   Column                      Non-Null Count  Dtype         \n",
      "---  ------                      --------------  -----         \n",
      " 0   object_id                   12000 non-null  int64         \n",
      " 1   creation_time               12000 non-null  datetime64[ns]\n",
      " 2   name                        12000 non-null  object        \n",
      " 3   email                       12000 non-null  object        \n",
      " 4   creation_source             12000 non-null  object        \n",
      " 5   last_session_creation_time  8823 non-null   datetime64[ns]\n",
      " 6   opted_in_to_mailing_list    12000 non-null  int64         \n",
      " 7   enabled_for_marketing_drip  12000 non-null  int64         \n",
      " 8   org_id                      12000 non-null  int64         \n",
      " 9   invited_by_user_id          12000 non-null  int64         \n",
      "dtypes: datetime64[ns](2), int64(5), object(3)\n",
      "memory usage: 937.6+ KB\n"
     ]
    }
   ],
   "source": [
    "users.info()"
   ]
  },
  {
   "cell_type": "markdown",
   "id": "bf966ca5",
   "metadata": {},
   "source": [
    "## Target Feature \n",
    "Defining an \"adopted user\" as a user who has logged into the product on three separate days in at least one seven-day period, identify which factors predict future user adoption."
   ]
  },
  {
   "cell_type": "code",
   "execution_count": 496,
   "id": "8d04a565",
   "metadata": {},
   "outputs": [],
   "source": [
    "def adopted_user(user_id):\n",
    "    \n",
    "    \"\"\"\n",
    "    accepts user_id as an argument of type int. \n",
    "    returns true if in the span of the user's history\n",
    "    if visits <= 3 for a period in the weekly frequency, it checks the span of that week in daily frequencies to check it each login occurs on an individual day in that week\n",
    "    if all is true then user is given status of \"adopted user\" bool:True\n",
    "    if visits <= 3, but there is more than one visit on a given day, move on to next date.\n",
    "    If nothing found return bool False\n",
    "    \"\"\"\n",
    "    # get user id history\n",
    "    user_engagement['time_stamp'] = pd.to_datetime(user_engagement['time_stamp'], errors='raise', infer_datetime_format=True)\n",
    "    history = user_engagement[user_engagement['user_id'] == user_id]\n",
    "    #assert history['time_stamp'] != 'Inde\n",
    "    # for debugging\n",
    "    #history\n",
    "    \n",
    "    # set bool check\n",
    "    is_good = True\n",
    "    \n",
    "    # downsample\n",
    "    weekly = history.set_index('time_stamp').resample(rule='w').sum()\n",
    "    daily = history.set_index('time_stamp').resample(rule='d').sum()\n",
    "    \n",
    "    # For each week over the number of total weeks\n",
    "    for i in range(len(weekly)):\n",
    "        \n",
    "        # if there are three or more visits in a given week\n",
    "        if weekly.iloc[i][1] >= 3:\n",
    "        \n",
    "        # Get the start day and end day of that week\n",
    "            good_week_start = weekly.iloc[i].name\n",
    "            good_week_end = good_week_start + pd.Timedelta('7 days')\n",
    "        \n",
    "        # Get the daily sample of the span of that week\n",
    "            week = daily.loc[good_week_start:good_week_end]\n",
    "        \n",
    "        # For each day in that given week\n",
    "            for j in range(len(week)):\n",
    "            \n",
    "            # if there is a day that has more than 1 visit (i.e. not distinct days)\n",
    "            # CHECK THIS!! SOMETING FEELS WRONG!!\n",
    "                if week.iloc[j][1] > 1:\n",
    "                \n",
    "                # Set off a flag\n",
    "                    is_good = False\n",
    "                # if that week met the criterion, return true\n",
    "            if is_good == True:\n",
    "                return True\n",
    "        \n",
    "            # Else reset the flag\n",
    "            else:\n",
    "                is_good = True\n",
    "# at the end there was nothing\n",
    "    return False"
   ]
  },
  {
   "cell_type": "code",
   "execution_count": 497,
   "id": "aa720c35",
   "metadata": {},
   "outputs": [],
   "source": [
    "# Important!\n",
    "users.set_index('object_id', inplace=True)"
   ]
  },
  {
   "cell_type": "code",
   "execution_count": 498,
   "id": "cf399983",
   "metadata": {},
   "outputs": [
    {
     "name": "stdout",
     "output_type": "stream",
     "text": [
      "CPU times: user 6min 17s, sys: 6.49 s, total: 6min 24s\n",
      "Wall time: 6min 46s\n"
     ]
    }
   ],
   "source": [
    "%%time\n",
    "# Generate Target\n",
    "users['is_adopted'] = [adopted_user(user) for user in users.index]"
   ]
  },
  {
   "cell_type": "code",
   "execution_count": 518,
   "id": "8f679d4a",
   "metadata": {},
   "outputs": [],
   "source": [
    "# Save my work\n",
    "#pd.to_pickle(users, './users_target.pkl')"
   ]
  },
  {
   "cell_type": "markdown",
   "id": "7ce0ef0c",
   "metadata": {},
   "source": [
    "## Set Aside Test Data\n",
    "Need to check class imbalance to determine how to split the data"
   ]
  },
  {
   "cell_type": "code",
   "execution_count": 519,
   "id": "8d12737b",
   "metadata": {},
   "outputs": [],
   "source": [
    "dataset = users.copy(deep=True)"
   ]
  },
  {
   "cell_type": "code",
   "execution_count": 520,
   "id": "59dfe1c7",
   "metadata": {},
   "outputs": [],
   "source": [
    "X, y = dataset.drop('is_adopted', axis=1), dataset['is_adopted']"
   ]
  },
  {
   "cell_type": "code",
   "execution_count": 521,
   "id": "960f490a",
   "metadata": {},
   "outputs": [
    {
     "data": {
      "text/plain": [
       "False    10555\n",
       "True      1445\n",
       "Name: is_adopted, dtype: int64"
      ]
     },
     "execution_count": 521,
     "metadata": {},
     "output_type": "execute_result"
    }
   ],
   "source": [
    "y.value_counts()"
   ]
  },
  {
   "cell_type": "code",
   "execution_count": 522,
   "id": "b72cd114",
   "metadata": {},
   "outputs": [],
   "source": [
    "# 80/20 split leaves 289 of the minor class for the test data\n",
    "X_train, X_test, y_train, y_test = train_test_split(X, y, random_state=0, train_size=0.8, stratify=y)"
   ]
  },
  {
   "cell_type": "code",
   "execution_count": 523,
   "id": "6a12aab6",
   "metadata": {},
   "outputs": [
    {
     "data": {
      "text/plain": [
       "False    2111\n",
       "True      289\n",
       "Name: is_adopted, dtype: int64"
      ]
     },
     "execution_count": 523,
     "metadata": {},
     "output_type": "execute_result"
    }
   ],
   "source": [
    "y_test.value_counts()"
   ]
  },
  {
   "cell_type": "code",
   "execution_count": 524,
   "id": "7cc0017e",
   "metadata": {},
   "outputs": [],
   "source": [
    "# Save Test Data And No Peeking!\n",
    "train = pd.concat([X_train, y_train], axis=1)\n",
    "test = pd.concat([X_test, y_test], axis=1)\n",
    "\n",
    "pd.to_pickle(train, './train.pkl')\n",
    "pd.to_pickle(test, './test.pkl')"
   ]
  },
  {
   "cell_type": "markdown",
   "id": "c1abc2d8",
   "metadata": {},
   "source": [
    "## Feature Engineering"
   ]
  },
  {
   "cell_type": "code",
   "execution_count": 600,
   "id": "95265f53",
   "metadata": {},
   "outputs": [],
   "source": [
    "# Break down strings\n",
    "\n",
    "def decompose_email(address):\n",
    "    user, domain = address.split('@')\n",
    "    domain_name, ext = domain.split('.')\n",
    "    return user, domain_name, ext\n",
    "\n",
    "# Check is user_id has any red flags\n",
    "def flag_user(user_id):\n",
    "    flagger = train.loc[user_id]\n",
    "    full_name = flagger['name'].split()\n",
    "    # not sure if need to lowercase (probably should)\n",
    "    username = flagger['username']\n",
    "    for name in full_name:\n",
    "        if re.match(name, username):\n",
    "            flag=False\n",
    "        else:\n",
    "            flag=True\n",
    "    return flag"
   ]
  },
  {
   "cell_type": "code",
   "execution_count": 601,
   "id": "3c4386d0",
   "metadata": {},
   "outputs": [],
   "source": [
    "# apply function over dataframe \n",
    "\n",
    "username, domain, extension = [], [], []\n",
    "for i in range(len(train['email'])):\n",
    "    address = decompose_email(train['email'].iloc[i])\n",
    "    username.append(address[0])\n",
    "    domain.append(address[1])\n",
    "    extension.append(address[2])\n",
    "\n",
    "train['username'] = username\n",
    "train['domain'] = domain\n",
    "train['extention'] = extension"
   ]
  },
  {
   "cell_type": "code",
   "execution_count": 672,
   "id": "39c4e6e5",
   "metadata": {
    "scrolled": true
   },
   "outputs": [
    {
     "name": "stdout",
     "output_type": "stream",
     "text": [
      "gmail         2852\n",
      "yahoo         1940\n",
      "sus           1899\n",
      "cuvox          980\n",
      "jourrapide     976\n",
      "gustr          953\n",
      "Name: domain, dtype: int64\n"
     ]
    }
   ],
   "source": [
    "# domains\n",
    "\n",
    "valid_domains = train['domain'].value_counts()[:6].index\n",
    "train['domain'] = train['domain'].apply(lambda x: x if x in valid_domains else 'sus')\n",
    "print(train['domain'].value_counts())\n",
    "\n",
    "# names\n",
    "\n",
    "def flag_user(user_id):\n",
    "    flagger = train.loc[user_id]\n",
    "    full_name = flagger['name'].split()\n",
    "    # not sure if need to lowercase (probably should)\n",
    "    username = flagger['username']\n",
    "    for name in full_name:\n",
    "        if re.match(name, username):\n",
    "            flag=False\n",
    "        else:\n",
    "            flag=True\n",
    "    return flag\n",
    "\n",
    "# Want to check if user is flagged and is sending similar emails with differnete addressess/names/etc...\n",
    "\n"
   ]
  },
  {
   "cell_type": "code",
   "execution_count": 668,
   "id": "fb98f79b",
   "metadata": {},
   "outputs": [
    {
     "name": "stdout",
     "output_type": "stream",
     "text": [
      "Rucker\n",
      "DouglasJRucker\n",
      "Douglas\n",
      "DouglasJRucker\n",
      "True\n"
     ]
    }
   ],
   "source": [
    "for name in full_name:\n",
    "    if re.match(name, username):\n",
    "        print(True)"
   ]
  },
  {
   "cell_type": "code",
   "execution_count": 673,
   "id": "f6b6c055",
   "metadata": {},
   "outputs": [],
   "source": [
    "flags = []\n",
    "for user_id in train.index:\n",
    "    flags.append(flag_user(user_id))"
   ]
  },
  {
   "cell_type": "code",
   "execution_count": 676,
   "id": "e05a4f61",
   "metadata": {},
   "outputs": [],
   "source": [
    "train['flags'] = flags"
   ]
  },
  {
   "cell_type": "code",
   "execution_count": 677,
   "id": "f2821514",
   "metadata": {},
   "outputs": [
    {
     "data": {
      "text/html": [
       "<div>\n",
       "<style scoped>\n",
       "    .dataframe tbody tr th:only-of-type {\n",
       "        vertical-align: middle;\n",
       "    }\n",
       "\n",
       "    .dataframe tbody tr th {\n",
       "        vertical-align: top;\n",
       "    }\n",
       "\n",
       "    .dataframe thead th {\n",
       "        text-align: right;\n",
       "    }\n",
       "</style>\n",
       "<table border=\"1\" class=\"dataframe\">\n",
       "  <thead>\n",
       "    <tr style=\"text-align: right;\">\n",
       "      <th></th>\n",
       "      <th>creation_time</th>\n",
       "      <th>name</th>\n",
       "      <th>email</th>\n",
       "      <th>creation_source</th>\n",
       "      <th>last_session_creation_time</th>\n",
       "      <th>opted_in_to_mailing_list</th>\n",
       "      <th>enabled_for_marketing_drip</th>\n",
       "      <th>org_id</th>\n",
       "      <th>invited_by_user_id</th>\n",
       "      <th>is_adopted</th>\n",
       "      <th>addresses</th>\n",
       "      <th>username</th>\n",
       "      <th>domain</th>\n",
       "      <th>extention</th>\n",
       "      <th>flags</th>\n",
       "    </tr>\n",
       "    <tr>\n",
       "      <th>object_id</th>\n",
       "      <th></th>\n",
       "      <th></th>\n",
       "      <th></th>\n",
       "      <th></th>\n",
       "      <th></th>\n",
       "      <th></th>\n",
       "      <th></th>\n",
       "      <th></th>\n",
       "      <th></th>\n",
       "      <th></th>\n",
       "      <th></th>\n",
       "      <th></th>\n",
       "      <th></th>\n",
       "      <th></th>\n",
       "      <th></th>\n",
       "    </tr>\n",
       "  </thead>\n",
       "  <tbody>\n",
       "    <tr>\n",
       "      <th>4880</th>\n",
       "      <td>2014-02-05 14:09:24</td>\n",
       "      <td>White Freya</td>\n",
       "      <td>zgglolpq@itusf.com</td>\n",
       "      <td>ORG_INVITE</td>\n",
       "      <td>2014-02-07 14:09:24</td>\n",
       "      <td>0</td>\n",
       "      <td>0</td>\n",
       "      <td>20</td>\n",
       "      <td>10318</td>\n",
       "      <td>False</td>\n",
       "      <td>(zgglolpq, itusf, com)</td>\n",
       "      <td>zgglolpq</td>\n",
       "      <td>sus</td>\n",
       "      <td>com</td>\n",
       "      <td>True</td>\n",
       "    </tr>\n",
       "    <tr>\n",
       "      <th>9399</th>\n",
       "      <td>2013-05-27 11:20:43</td>\n",
       "      <td>Martins Giovana</td>\n",
       "      <td>GiovanaAraujoMartins@jourrapide.com</td>\n",
       "      <td>ORG_INVITE</td>\n",
       "      <td>NaT</td>\n",
       "      <td>0</td>\n",
       "      <td>1</td>\n",
       "      <td>57</td>\n",
       "      <td>1055</td>\n",
       "      <td>False</td>\n",
       "      <td>(GiovanaAraujoMartins, jourrapide, com)</td>\n",
       "      <td>GiovanaAraujoMartins</td>\n",
       "      <td>jourrapide</td>\n",
       "      <td>com</td>\n",
       "      <td>False</td>\n",
       "    </tr>\n",
       "    <tr>\n",
       "      <th>83</th>\n",
       "      <td>2013-01-26 09:44:23</td>\n",
       "      <td>Araujo Gabriela</td>\n",
       "      <td>GabrielaFernandesAraujo@cuvox.de</td>\n",
       "      <td>ORG_INVITE</td>\n",
       "      <td>2013-01-27 09:44:23</td>\n",
       "      <td>1</td>\n",
       "      <td>0</td>\n",
       "      <td>172</td>\n",
       "      <td>9016</td>\n",
       "      <td>False</td>\n",
       "      <td>(GabrielaFernandesAraujo, cuvox, de)</td>\n",
       "      <td>GabrielaFernandesAraujo</td>\n",
       "      <td>cuvox</td>\n",
       "      <td>de</td>\n",
       "      <td>False</td>\n",
       "    </tr>\n",
       "    <tr>\n",
       "      <th>4051</th>\n",
       "      <td>2014-05-29 14:58:50</td>\n",
       "      <td>Holm Alexander</td>\n",
       "      <td>AlexanderOHolm@gustr.com</td>\n",
       "      <td>ORG_INVITE</td>\n",
       "      <td>2014-06-06 14:58:50</td>\n",
       "      <td>0</td>\n",
       "      <td>1</td>\n",
       "      <td>47</td>\n",
       "      <td>5340</td>\n",
       "      <td>False</td>\n",
       "      <td>(AlexanderOHolm, gustr, com)</td>\n",
       "      <td>AlexanderOHolm</td>\n",
       "      <td>gustr</td>\n",
       "      <td>com</td>\n",
       "      <td>False</td>\n",
       "    </tr>\n",
       "    <tr>\n",
       "      <th>656</th>\n",
       "      <td>2013-01-24 15:50:50</td>\n",
       "      <td>Lowry Elise</td>\n",
       "      <td>EliseRLowry@gmail.com</td>\n",
       "      <td>SIGNUP_GOOGLE_AUTH</td>\n",
       "      <td>2013-01-24 15:50:50</td>\n",
       "      <td>1</td>\n",
       "      <td>1</td>\n",
       "      <td>42</td>\n",
       "      <td>0</td>\n",
       "      <td>False</td>\n",
       "      <td>(EliseRLowry, gmail, com)</td>\n",
       "      <td>EliseRLowry</td>\n",
       "      <td>gmail</td>\n",
       "      <td>com</td>\n",
       "      <td>False</td>\n",
       "    </tr>\n",
       "    <tr>\n",
       "      <th>...</th>\n",
       "      <td>...</td>\n",
       "      <td>...</td>\n",
       "      <td>...</td>\n",
       "      <td>...</td>\n",
       "      <td>...</td>\n",
       "      <td>...</td>\n",
       "      <td>...</td>\n",
       "      <td>...</td>\n",
       "      <td>...</td>\n",
       "      <td>...</td>\n",
       "      <td>...</td>\n",
       "      <td>...</td>\n",
       "      <td>...</td>\n",
       "      <td>...</td>\n",
       "      <td>...</td>\n",
       "    </tr>\n",
       "    <tr>\n",
       "      <th>3190</th>\n",
       "      <td>2014-01-10 21:51:06</td>\n",
       "      <td>Edgerton Jack</td>\n",
       "      <td>JackEdgerton@gmail.com</td>\n",
       "      <td>SIGNUP_GOOGLE_AUTH</td>\n",
       "      <td>2014-01-10 21:51:06</td>\n",
       "      <td>0</td>\n",
       "      <td>0</td>\n",
       "      <td>167</td>\n",
       "      <td>0</td>\n",
       "      <td>False</td>\n",
       "      <td>(JackEdgerton, gmail, com)</td>\n",
       "      <td>JackEdgerton</td>\n",
       "      <td>gmail</td>\n",
       "      <td>com</td>\n",
       "      <td>False</td>\n",
       "    </tr>\n",
       "    <tr>\n",
       "      <th>1358</th>\n",
       "      <td>2013-12-24 05:24:22</td>\n",
       "      <td>Hoffmann Peter</td>\n",
       "      <td>smjhhror@uznoh.com</td>\n",
       "      <td>SIGNUP</td>\n",
       "      <td>2013-12-24 05:24:22</td>\n",
       "      <td>0</td>\n",
       "      <td>0</td>\n",
       "      <td>276</td>\n",
       "      <td>0</td>\n",
       "      <td>False</td>\n",
       "      <td>(smjhhror, uznoh, com)</td>\n",
       "      <td>smjhhror</td>\n",
       "      <td>sus</td>\n",
       "      <td>com</td>\n",
       "      <td>True</td>\n",
       "    </tr>\n",
       "    <tr>\n",
       "      <th>11084</th>\n",
       "      <td>2013-02-23 20:11:35</td>\n",
       "      <td>Nepean Ben</td>\n",
       "      <td>BenNepean@gmail.com</td>\n",
       "      <td>GUEST_INVITE</td>\n",
       "      <td>2013-04-09 20:11:35</td>\n",
       "      <td>1</td>\n",
       "      <td>0</td>\n",
       "      <td>5</td>\n",
       "      <td>8487</td>\n",
       "      <td>False</td>\n",
       "      <td>(BenNepean, gmail, com)</td>\n",
       "      <td>BenNepean</td>\n",
       "      <td>gmail</td>\n",
       "      <td>com</td>\n",
       "      <td>False</td>\n",
       "    </tr>\n",
       "    <tr>\n",
       "      <th>7853</th>\n",
       "      <td>2014-04-24 07:15:58</td>\n",
       "      <td>Barrallier Stella</td>\n",
       "      <td>StellaBarrallier@gustr.com</td>\n",
       "      <td>GUEST_INVITE</td>\n",
       "      <td>2014-04-25 07:15:58</td>\n",
       "      <td>0</td>\n",
       "      <td>0</td>\n",
       "      <td>178</td>\n",
       "      <td>2751</td>\n",
       "      <td>False</td>\n",
       "      <td>(StellaBarrallier, gustr, com)</td>\n",
       "      <td>StellaBarrallier</td>\n",
       "      <td>gustr</td>\n",
       "      <td>com</td>\n",
       "      <td>False</td>\n",
       "    </tr>\n",
       "    <tr>\n",
       "      <th>8426</th>\n",
       "      <td>2012-07-20 22:31:11</td>\n",
       "      <td>Rucker Douglas</td>\n",
       "      <td>DouglasJRucker@gmail.com</td>\n",
       "      <td>GUEST_INVITE</td>\n",
       "      <td>2014-05-22 22:31:11</td>\n",
       "      <td>0</td>\n",
       "      <td>0</td>\n",
       "      <td>85</td>\n",
       "      <td>8426</td>\n",
       "      <td>True</td>\n",
       "      <td>(DouglasJRucker, gmail, com)</td>\n",
       "      <td>DouglasJRucker</td>\n",
       "      <td>gmail</td>\n",
       "      <td>com</td>\n",
       "      <td>False</td>\n",
       "    </tr>\n",
       "  </tbody>\n",
       "</table>\n",
       "<p>9600 rows × 15 columns</p>\n",
       "</div>"
      ],
      "text/plain": [
       "                creation_time               name  \\\n",
       "object_id                                          \n",
       "4880      2014-02-05 14:09:24        White Freya   \n",
       "9399      2013-05-27 11:20:43    Martins Giovana   \n",
       "83        2013-01-26 09:44:23    Araujo Gabriela   \n",
       "4051      2014-05-29 14:58:50     Holm Alexander   \n",
       "656       2013-01-24 15:50:50        Lowry Elise   \n",
       "...                       ...                ...   \n",
       "3190      2014-01-10 21:51:06      Edgerton Jack   \n",
       "1358      2013-12-24 05:24:22     Hoffmann Peter   \n",
       "11084     2013-02-23 20:11:35         Nepean Ben   \n",
       "7853      2014-04-24 07:15:58  Barrallier Stella   \n",
       "8426      2012-07-20 22:31:11     Rucker Douglas   \n",
       "\n",
       "                                         email     creation_source  \\\n",
       "object_id                                                            \n",
       "4880                        zgglolpq@itusf.com          ORG_INVITE   \n",
       "9399       GiovanaAraujoMartins@jourrapide.com          ORG_INVITE   \n",
       "83            GabrielaFernandesAraujo@cuvox.de          ORG_INVITE   \n",
       "4051                  AlexanderOHolm@gustr.com          ORG_INVITE   \n",
       "656                      EliseRLowry@gmail.com  SIGNUP_GOOGLE_AUTH   \n",
       "...                                        ...                 ...   \n",
       "3190                    JackEdgerton@gmail.com  SIGNUP_GOOGLE_AUTH   \n",
       "1358                        smjhhror@uznoh.com              SIGNUP   \n",
       "11084                      BenNepean@gmail.com        GUEST_INVITE   \n",
       "7853                StellaBarrallier@gustr.com        GUEST_INVITE   \n",
       "8426                  DouglasJRucker@gmail.com        GUEST_INVITE   \n",
       "\n",
       "          last_session_creation_time  opted_in_to_mailing_list  \\\n",
       "object_id                                                        \n",
       "4880             2014-02-07 14:09:24                         0   \n",
       "9399                             NaT                         0   \n",
       "83               2013-01-27 09:44:23                         1   \n",
       "4051             2014-06-06 14:58:50                         0   \n",
       "656              2013-01-24 15:50:50                         1   \n",
       "...                              ...                       ...   \n",
       "3190             2014-01-10 21:51:06                         0   \n",
       "1358             2013-12-24 05:24:22                         0   \n",
       "11084            2013-04-09 20:11:35                         1   \n",
       "7853             2014-04-25 07:15:58                         0   \n",
       "8426             2014-05-22 22:31:11                         0   \n",
       "\n",
       "           enabled_for_marketing_drip  org_id  invited_by_user_id  is_adopted  \\\n",
       "object_id                                                                       \n",
       "4880                                0      20               10318       False   \n",
       "9399                                1      57                1055       False   \n",
       "83                                  0     172                9016       False   \n",
       "4051                                1      47                5340       False   \n",
       "656                                 1      42                   0       False   \n",
       "...                               ...     ...                 ...         ...   \n",
       "3190                                0     167                   0       False   \n",
       "1358                                0     276                   0       False   \n",
       "11084                               0       5                8487       False   \n",
       "7853                                0     178                2751       False   \n",
       "8426                                0      85                8426        True   \n",
       "\n",
       "                                         addresses                 username  \\\n",
       "object_id                                                                     \n",
       "4880                        (zgglolpq, itusf, com)                 zgglolpq   \n",
       "9399       (GiovanaAraujoMartins, jourrapide, com)     GiovanaAraujoMartins   \n",
       "83            (GabrielaFernandesAraujo, cuvox, de)  GabrielaFernandesAraujo   \n",
       "4051                  (AlexanderOHolm, gustr, com)           AlexanderOHolm   \n",
       "656                      (EliseRLowry, gmail, com)              EliseRLowry   \n",
       "...                                            ...                      ...   \n",
       "3190                    (JackEdgerton, gmail, com)             JackEdgerton   \n",
       "1358                        (smjhhror, uznoh, com)                 smjhhror   \n",
       "11084                      (BenNepean, gmail, com)                BenNepean   \n",
       "7853                (StellaBarrallier, gustr, com)         StellaBarrallier   \n",
       "8426                  (DouglasJRucker, gmail, com)           DouglasJRucker   \n",
       "\n",
       "               domain extention  flags  \n",
       "object_id                               \n",
       "4880              sus       com   True  \n",
       "9399       jourrapide       com  False  \n",
       "83              cuvox        de  False  \n",
       "4051            gustr       com  False  \n",
       "656             gmail       com  False  \n",
       "...               ...       ...    ...  \n",
       "3190            gmail       com  False  \n",
       "1358              sus       com   True  \n",
       "11084           gmail       com  False  \n",
       "7853            gustr       com  False  \n",
       "8426            gmail       com  False  \n",
       "\n",
       "[9600 rows x 15 columns]"
      ]
     },
     "execution_count": 677,
     "metadata": {},
     "output_type": "execute_result"
    }
   ],
   "source": [
    "train"
   ]
  },
  {
   "cell_type": "code",
   "execution_count": 639,
   "id": "8690ac8e",
   "metadata": {},
   "outputs": [],
   "source": [
    "first_name, last_name = train['name'].iloc[1].split()\n",
    "re.match(first_name, train['username'].iloc[1])"
   ]
  },
  {
   "cell_type": "code",
   "execution_count": 645,
   "id": "9419534c",
   "metadata": {},
   "outputs": [
    {
     "data": {
      "text/plain": [
       "'GiovanaAraujoMartins'"
      ]
     },
     "execution_count": 645,
     "metadata": {},
     "output_type": "execute_result"
    }
   ],
   "source": [
    "re.match(last_name, train['username'].iloc[1])"
   ]
  },
  {
   "cell_type": "code",
   "execution_count": 638,
   "id": "d21561e4",
   "metadata": {},
   "outputs": [
    {
     "data": {
      "text/plain": [
       "'GiovanaAraujoMartins'"
      ]
     },
     "execution_count": 638,
     "metadata": {},
     "output_type": "execute_result"
    }
   ],
   "source": [
    "train['username'].iloc[1]"
   ]
  },
  {
   "cell_type": "code",
   "execution_count": 632,
   "id": "5b4bf8f7",
   "metadata": {},
   "outputs": [
    {
     "data": {
      "text/plain": [
       "GabriellyBarbosaAlves    2\n",
       "EdwardMcEvilly           2\n",
       "LisaBaader               2\n",
       "ThomasBrandt             2\n",
       "BrunaCunhaCarvalho       2\n",
       "                        ..\n",
       "SpencerMackrell          1\n",
       "yhmpqisq                 1\n",
       "BrendaCardosoBarros      1\n",
       "HarrisonLamb             1\n",
       "DouglasJRucker           1\n",
       "Name: username, Length: 9548, dtype: int64"
      ]
     },
     "execution_count": 632,
     "metadata": {},
     "output_type": "execute_result"
    }
   ],
   "source": [
    "train['username'].value_counts()"
   ]
  },
  {
   "cell_type": "code",
   "execution_count": 604,
   "id": "9cd3292c",
   "metadata": {},
   "outputs": [
    {
     "data": {
      "text/plain": [
       "gmail         2852\n",
       "yahoo         1940\n",
       "cuvox          980\n",
       "jourrapide     976\n",
       "sus            954\n",
       "gustr          953\n",
       "hotmail        945\n",
       "Name: domain, dtype: int64"
      ]
     },
     "execution_count": 604,
     "metadata": {},
     "output_type": "execute_result"
    }
   ],
   "source": []
  },
  {
   "cell_type": "code",
   "execution_count": 531,
   "id": "6a097ae0",
   "metadata": {},
   "outputs": [],
   "source": [
    "email_pattern = r'[@]\\S+'"
   ]
  },
  {
   "cell_type": "code",
   "execution_count": 544,
   "id": "87b4a4a9",
   "metadata": {},
   "outputs": [
    {
     "data": {
      "text/plain": [
       "['@itusf.com']"
      ]
     },
     "execution_count": 544,
     "metadata": {},
     "output_type": "execute_result"
    }
   ],
   "source": [
    "re.findall(email_pattern, train['email'].iloc[0])"
   ]
  },
  {
   "cell_type": "code",
   "execution_count": 546,
   "id": "fa32f096",
   "metadata": {},
   "outputs": [
    {
     "data": {
      "text/plain": [
       "['zgglolpq', 'itusf.com']"
      ]
     },
     "execution_count": 546,
     "metadata": {},
     "output_type": "execute_result"
    }
   ],
   "source": [
    "train['email'].iloc[0].split('@')"
   ]
  },
  {
   "cell_type": "code",
   "execution_count": 534,
   "id": "b3addebb",
   "metadata": {},
   "outputs": [
    {
     "ename": "TypeError",
     "evalue": "match() missing 2 required positional arguments: 'pattern' and 'string'",
     "output_type": "error",
     "traceback": [
      "\u001b[0;31m---------------------------------------------------------------------------\u001b[0m",
      "\u001b[0;31mTypeError\u001b[0m                                 Traceback (most recent call last)",
      "\u001b[0;32m<ipython-input-534-60aa42abbf8a>\u001b[0m in \u001b[0;36m<module>\u001b[0;34m\u001b[0m\n\u001b[0;32m----> 1\u001b[0;31m \u001b[0mre\u001b[0m\u001b[0;34m.\u001b[0m\u001b[0mmatch\u001b[0m\u001b[0;34m(\u001b[0m\u001b[0;34m)\u001b[0m\u001b[0;34m\u001b[0m\u001b[0;34m\u001b[0m\u001b[0m\n\u001b[0m",
      "\u001b[0;31mTypeError\u001b[0m: match() missing 2 required positional arguments: 'pattern' and 'string'"
     ]
    }
   ],
   "source": [
    "re.match"
   ]
  },
  {
   "cell_type": "markdown",
   "id": "aef36a76",
   "metadata": {},
   "source": [
    "# Get a small model going\n"
   ]
  },
  {
   "cell_type": "markdown",
   "id": "c20aec98",
   "metadata": {},
   "source": [
    "## Feature Engineering"
   ]
  },
  {
   "cell_type": "code",
   "execution_count": 506,
   "id": "ba60f72f",
   "metadata": {
    "scrolled": true
   },
   "outputs": [
    {
     "data": {
      "text/html": [
       "<div>\n",
       "<style scoped>\n",
       "    .dataframe tbody tr th:only-of-type {\n",
       "        vertical-align: middle;\n",
       "    }\n",
       "\n",
       "    .dataframe tbody tr th {\n",
       "        vertical-align: top;\n",
       "    }\n",
       "\n",
       "    .dataframe thead th {\n",
       "        text-align: right;\n",
       "    }\n",
       "</style>\n",
       "<table border=\"1\" class=\"dataframe\">\n",
       "  <thead>\n",
       "    <tr style=\"text-align: right;\">\n",
       "      <th></th>\n",
       "      <th>creation_time</th>\n",
       "      <th>name</th>\n",
       "      <th>email</th>\n",
       "      <th>creation_source</th>\n",
       "      <th>last_session_creation_time</th>\n",
       "      <th>opted_in_to_mailing_list</th>\n",
       "      <th>enabled_for_marketing_drip</th>\n",
       "      <th>org_id</th>\n",
       "      <th>invited_by_user_id</th>\n",
       "      <th>is_adopted</th>\n",
       "    </tr>\n",
       "    <tr>\n",
       "      <th>object_id</th>\n",
       "      <th></th>\n",
       "      <th></th>\n",
       "      <th></th>\n",
       "      <th></th>\n",
       "      <th></th>\n",
       "      <th></th>\n",
       "      <th></th>\n",
       "      <th></th>\n",
       "      <th></th>\n",
       "      <th></th>\n",
       "    </tr>\n",
       "  </thead>\n",
       "  <tbody>\n",
       "    <tr>\n",
       "      <th>4880</th>\n",
       "      <td>2014-02-05 14:09:24</td>\n",
       "      <td>White Freya</td>\n",
       "      <td>zgglolpq@itusf.com</td>\n",
       "      <td>ORG_INVITE</td>\n",
       "      <td>2014-02-07 14:09:24</td>\n",
       "      <td>0</td>\n",
       "      <td>0</td>\n",
       "      <td>20</td>\n",
       "      <td>10318</td>\n",
       "      <td>False</td>\n",
       "    </tr>\n",
       "    <tr>\n",
       "      <th>9399</th>\n",
       "      <td>2013-05-27 11:20:43</td>\n",
       "      <td>Martins Giovana</td>\n",
       "      <td>GiovanaAraujoMartins@jourrapide.com</td>\n",
       "      <td>ORG_INVITE</td>\n",
       "      <td>NaT</td>\n",
       "      <td>0</td>\n",
       "      <td>1</td>\n",
       "      <td>57</td>\n",
       "      <td>1055</td>\n",
       "      <td>False</td>\n",
       "    </tr>\n",
       "    <tr>\n",
       "      <th>83</th>\n",
       "      <td>2013-01-26 09:44:23</td>\n",
       "      <td>Araujo Gabriela</td>\n",
       "      <td>GabrielaFernandesAraujo@cuvox.de</td>\n",
       "      <td>ORG_INVITE</td>\n",
       "      <td>2013-01-27 09:44:23</td>\n",
       "      <td>1</td>\n",
       "      <td>0</td>\n",
       "      <td>172</td>\n",
       "      <td>9016</td>\n",
       "      <td>False</td>\n",
       "    </tr>\n",
       "    <tr>\n",
       "      <th>4051</th>\n",
       "      <td>2014-05-29 14:58:50</td>\n",
       "      <td>Holm Alexander</td>\n",
       "      <td>AlexanderOHolm@gustr.com</td>\n",
       "      <td>ORG_INVITE</td>\n",
       "      <td>2014-06-06 14:58:50</td>\n",
       "      <td>0</td>\n",
       "      <td>1</td>\n",
       "      <td>47</td>\n",
       "      <td>5340</td>\n",
       "      <td>False</td>\n",
       "    </tr>\n",
       "    <tr>\n",
       "      <th>656</th>\n",
       "      <td>2013-01-24 15:50:50</td>\n",
       "      <td>Lowry Elise</td>\n",
       "      <td>EliseRLowry@gmail.com</td>\n",
       "      <td>SIGNUP_GOOGLE_AUTH</td>\n",
       "      <td>2013-01-24 15:50:50</td>\n",
       "      <td>1</td>\n",
       "      <td>1</td>\n",
       "      <td>42</td>\n",
       "      <td>0</td>\n",
       "      <td>False</td>\n",
       "    </tr>\n",
       "  </tbody>\n",
       "</table>\n",
       "</div>"
      ],
      "text/plain": [
       "                creation_time             name  \\\n",
       "object_id                                        \n",
       "4880      2014-02-05 14:09:24      White Freya   \n",
       "9399      2013-05-27 11:20:43  Martins Giovana   \n",
       "83        2013-01-26 09:44:23  Araujo Gabriela   \n",
       "4051      2014-05-29 14:58:50   Holm Alexander   \n",
       "656       2013-01-24 15:50:50      Lowry Elise   \n",
       "\n",
       "                                         email     creation_source  \\\n",
       "object_id                                                            \n",
       "4880                        zgglolpq@itusf.com          ORG_INVITE   \n",
       "9399       GiovanaAraujoMartins@jourrapide.com          ORG_INVITE   \n",
       "83            GabrielaFernandesAraujo@cuvox.de          ORG_INVITE   \n",
       "4051                  AlexanderOHolm@gustr.com          ORG_INVITE   \n",
       "656                      EliseRLowry@gmail.com  SIGNUP_GOOGLE_AUTH   \n",
       "\n",
       "          last_session_creation_time  opted_in_to_mailing_list  \\\n",
       "object_id                                                        \n",
       "4880             2014-02-07 14:09:24                         0   \n",
       "9399                             NaT                         0   \n",
       "83               2013-01-27 09:44:23                         1   \n",
       "4051             2014-06-06 14:58:50                         0   \n",
       "656              2013-01-24 15:50:50                         1   \n",
       "\n",
       "           enabled_for_marketing_drip  org_id  invited_by_user_id  is_adopted  \n",
       "object_id                                                                      \n",
       "4880                                0      20               10318       False  \n",
       "9399                                1      57                1055       False  \n",
       "83                                  0     172                9016       False  \n",
       "4051                                1      47                5340       False  \n",
       "656                                 1      42                   0       False  "
      ]
     },
     "execution_count": 506,
     "metadata": {},
     "output_type": "execute_result"
    }
   ],
   "source": [
    "train.head()"
   ]
  },
  {
   "cell_type": "code",
   "execution_count": 507,
   "id": "3aa00640",
   "metadata": {},
   "outputs": [
    {
     "data": {
      "text/plain": [
       "Series([], Name: creation_source, dtype: int64)"
      ]
     },
     "execution_count": 507,
     "metadata": {},
     "output_type": "execute_result"
    }
   ],
   "source": [
    "train['creation_source'][users['invited_by_user_id'].isna()].value_counts()"
   ]
  },
  {
   "cell_type": "code",
   "execution_count": 508,
   "id": "90a1461c",
   "metadata": {},
   "outputs": [
    {
     "data": {
      "text/plain": [
       "ORG_INVITE            3454\n",
       "GUEST_INVITE          1707\n",
       "PERSONAL_PROJECTS     1658\n",
       "SIGNUP                1655\n",
       "SIGNUP_GOOGLE_AUTH    1126\n",
       "Name: creation_source, dtype: int64"
      ]
     },
     "execution_count": 508,
     "metadata": {},
     "output_type": "execute_result"
    }
   ],
   "source": [
    "train['creation_source'][users['invited_by_user_id'].notna()].value_counts()"
   ]
  },
  {
   "cell_type": "code",
   "execution_count": 509,
   "id": "bd9040b6",
   "metadata": {},
   "outputs": [
    {
     "name": "stdout",
     "output_type": "stream",
     "text": [
      "<class 'pandas.core.frame.DataFrame'>\n",
      "Int64Index: 9600 entries, 4880 to 8426\n",
      "Data columns (total 10 columns):\n",
      " #   Column                      Non-Null Count  Dtype         \n",
      "---  ------                      --------------  -----         \n",
      " 0   creation_time               9600 non-null   datetime64[ns]\n",
      " 1   name                        9600 non-null   object        \n",
      " 2   email                       9600 non-null   object        \n",
      " 3   creation_source             9600 non-null   object        \n",
      " 4   last_session_creation_time  7056 non-null   datetime64[ns]\n",
      " 5   opted_in_to_mailing_list    9600 non-null   int64         \n",
      " 6   enabled_for_marketing_drip  9600 non-null   int64         \n",
      " 7   org_id                      9600 non-null   int64         \n",
      " 8   invited_by_user_id          9600 non-null   int64         \n",
      " 9   is_adopted                  9600 non-null   bool          \n",
      "dtypes: bool(1), datetime64[ns](2), int64(4), object(3)\n",
      "memory usage: 759.4+ KB\n"
     ]
    }
   ],
   "source": [
    "train.info()"
   ]
  },
  {
   "cell_type": "code",
   "execution_count": 510,
   "id": "1c6df7da",
   "metadata": {},
   "outputs": [],
   "source": [
    "train['total_session_time'] = train['last_session_creation_time'] - train['creation_time']"
   ]
  },
  {
   "cell_type": "code",
   "execution_count": 511,
   "id": "a86d6d6e",
   "metadata": {
    "scrolled": false
   },
   "outputs": [
    {
     "data": {
      "text/plain": [
       "ORG_INVITE            3454\n",
       "GUEST_INVITE          1707\n",
       "PERSONAL_PROJECTS     1658\n",
       "SIGNUP                1655\n",
       "SIGNUP_GOOGLE_AUTH    1126\n",
       "Name: creation_source, dtype: int64"
      ]
     },
     "execution_count": 511,
     "metadata": {},
     "output_type": "execute_result"
    }
   ],
   "source": [
    "train['creation_source'].value_counts()"
   ]
  },
  {
   "cell_type": "code",
   "execution_count": 512,
   "id": "d830d04e",
   "metadata": {
    "scrolled": true
   },
   "outputs": [
    {
     "data": {
      "text/plain": [
       "Araujo Gabriela     5\n",
       "Carvalho Bruna      4\n",
       "Cunha Melissa       4\n",
       "Costa Lavinia       4\n",
       "Oliveira Rafael     3\n",
       "                   ..\n",
       "Frei Marko          1\n",
       "Connolly Nathan     1\n",
       "Sanderson Archie    1\n",
       "Walters Joe         1\n",
       "Rucker Douglas      1\n",
       "Name: name, Length: 9183, dtype: int64"
      ]
     },
     "execution_count": 512,
     "metadata": {},
     "output_type": "execute_result"
    }
   ],
   "source": [
    "train['name'].value_counts()"
   ]
  },
  {
   "cell_type": "code",
   "execution_count": 513,
   "id": "c5e631c9",
   "metadata": {},
   "outputs": [
    {
     "data": {
      "text/html": [
       "<div>\n",
       "<style scoped>\n",
       "    .dataframe tbody tr th:only-of-type {\n",
       "        vertical-align: middle;\n",
       "    }\n",
       "\n",
       "    .dataframe tbody tr th {\n",
       "        vertical-align: top;\n",
       "    }\n",
       "\n",
       "    .dataframe thead th {\n",
       "        text-align: right;\n",
       "    }\n",
       "</style>\n",
       "<table border=\"1\" class=\"dataframe\">\n",
       "  <thead>\n",
       "    <tr style=\"text-align: right;\">\n",
       "      <th></th>\n",
       "      <th>creation_time</th>\n",
       "      <th>name</th>\n",
       "      <th>email</th>\n",
       "      <th>creation_source</th>\n",
       "      <th>last_session_creation_time</th>\n",
       "      <th>opted_in_to_mailing_list</th>\n",
       "      <th>enabled_for_marketing_drip</th>\n",
       "      <th>org_id</th>\n",
       "      <th>invited_by_user_id</th>\n",
       "      <th>is_adopted</th>\n",
       "      <th>total_session_time</th>\n",
       "    </tr>\n",
       "    <tr>\n",
       "      <th>object_id</th>\n",
       "      <th></th>\n",
       "      <th></th>\n",
       "      <th></th>\n",
       "      <th></th>\n",
       "      <th></th>\n",
       "      <th></th>\n",
       "      <th></th>\n",
       "      <th></th>\n",
       "      <th></th>\n",
       "      <th></th>\n",
       "      <th></th>\n",
       "    </tr>\n",
       "  </thead>\n",
       "  <tbody>\n",
       "    <tr>\n",
       "      <th>4880</th>\n",
       "      <td>2014-02-05 14:09:24</td>\n",
       "      <td>White Freya</td>\n",
       "      <td>zgglolpq@itusf.com</td>\n",
       "      <td>ORG_INVITE</td>\n",
       "      <td>2014-02-07 14:09:24</td>\n",
       "      <td>0</td>\n",
       "      <td>0</td>\n",
       "      <td>20</td>\n",
       "      <td>10318</td>\n",
       "      <td>False</td>\n",
       "      <td>2 days</td>\n",
       "    </tr>\n",
       "    <tr>\n",
       "      <th>9399</th>\n",
       "      <td>2013-05-27 11:20:43</td>\n",
       "      <td>Martins Giovana</td>\n",
       "      <td>GiovanaAraujoMartins@jourrapide.com</td>\n",
       "      <td>ORG_INVITE</td>\n",
       "      <td>NaT</td>\n",
       "      <td>0</td>\n",
       "      <td>1</td>\n",
       "      <td>57</td>\n",
       "      <td>1055</td>\n",
       "      <td>False</td>\n",
       "      <td>NaT</td>\n",
       "    </tr>\n",
       "    <tr>\n",
       "      <th>83</th>\n",
       "      <td>2013-01-26 09:44:23</td>\n",
       "      <td>Araujo Gabriela</td>\n",
       "      <td>GabrielaFernandesAraujo@cuvox.de</td>\n",
       "      <td>ORG_INVITE</td>\n",
       "      <td>2013-01-27 09:44:23</td>\n",
       "      <td>1</td>\n",
       "      <td>0</td>\n",
       "      <td>172</td>\n",
       "      <td>9016</td>\n",
       "      <td>False</td>\n",
       "      <td>1 days</td>\n",
       "    </tr>\n",
       "    <tr>\n",
       "      <th>4051</th>\n",
       "      <td>2014-05-29 14:58:50</td>\n",
       "      <td>Holm Alexander</td>\n",
       "      <td>AlexanderOHolm@gustr.com</td>\n",
       "      <td>ORG_INVITE</td>\n",
       "      <td>2014-06-06 14:58:50</td>\n",
       "      <td>0</td>\n",
       "      <td>1</td>\n",
       "      <td>47</td>\n",
       "      <td>5340</td>\n",
       "      <td>False</td>\n",
       "      <td>8 days</td>\n",
       "    </tr>\n",
       "    <tr>\n",
       "      <th>656</th>\n",
       "      <td>2013-01-24 15:50:50</td>\n",
       "      <td>Lowry Elise</td>\n",
       "      <td>EliseRLowry@gmail.com</td>\n",
       "      <td>SIGNUP_GOOGLE_AUTH</td>\n",
       "      <td>2013-01-24 15:50:50</td>\n",
       "      <td>1</td>\n",
       "      <td>1</td>\n",
       "      <td>42</td>\n",
       "      <td>0</td>\n",
       "      <td>False</td>\n",
       "      <td>0 days</td>\n",
       "    </tr>\n",
       "    <tr>\n",
       "      <th>...</th>\n",
       "      <td>...</td>\n",
       "      <td>...</td>\n",
       "      <td>...</td>\n",
       "      <td>...</td>\n",
       "      <td>...</td>\n",
       "      <td>...</td>\n",
       "      <td>...</td>\n",
       "      <td>...</td>\n",
       "      <td>...</td>\n",
       "      <td>...</td>\n",
       "      <td>...</td>\n",
       "    </tr>\n",
       "    <tr>\n",
       "      <th>3190</th>\n",
       "      <td>2014-01-10 21:51:06</td>\n",
       "      <td>Edgerton Jack</td>\n",
       "      <td>JackEdgerton@gmail.com</td>\n",
       "      <td>SIGNUP_GOOGLE_AUTH</td>\n",
       "      <td>2014-01-10 21:51:06</td>\n",
       "      <td>0</td>\n",
       "      <td>0</td>\n",
       "      <td>167</td>\n",
       "      <td>0</td>\n",
       "      <td>False</td>\n",
       "      <td>0 days</td>\n",
       "    </tr>\n",
       "    <tr>\n",
       "      <th>1358</th>\n",
       "      <td>2013-12-24 05:24:22</td>\n",
       "      <td>Hoffmann Peter</td>\n",
       "      <td>smjhhror@uznoh.com</td>\n",
       "      <td>SIGNUP</td>\n",
       "      <td>2013-12-24 05:24:22</td>\n",
       "      <td>0</td>\n",
       "      <td>0</td>\n",
       "      <td>276</td>\n",
       "      <td>0</td>\n",
       "      <td>False</td>\n",
       "      <td>0 days</td>\n",
       "    </tr>\n",
       "    <tr>\n",
       "      <th>11084</th>\n",
       "      <td>2013-02-23 20:11:35</td>\n",
       "      <td>Nepean Ben</td>\n",
       "      <td>BenNepean@gmail.com</td>\n",
       "      <td>GUEST_INVITE</td>\n",
       "      <td>2013-04-09 20:11:35</td>\n",
       "      <td>1</td>\n",
       "      <td>0</td>\n",
       "      <td>5</td>\n",
       "      <td>8487</td>\n",
       "      <td>False</td>\n",
       "      <td>45 days</td>\n",
       "    </tr>\n",
       "    <tr>\n",
       "      <th>7853</th>\n",
       "      <td>2014-04-24 07:15:58</td>\n",
       "      <td>Barrallier Stella</td>\n",
       "      <td>StellaBarrallier@gustr.com</td>\n",
       "      <td>GUEST_INVITE</td>\n",
       "      <td>2014-04-25 07:15:58</td>\n",
       "      <td>0</td>\n",
       "      <td>0</td>\n",
       "      <td>178</td>\n",
       "      <td>2751</td>\n",
       "      <td>False</td>\n",
       "      <td>1 days</td>\n",
       "    </tr>\n",
       "    <tr>\n",
       "      <th>8426</th>\n",
       "      <td>2012-07-20 22:31:11</td>\n",
       "      <td>Rucker Douglas</td>\n",
       "      <td>DouglasJRucker@gmail.com</td>\n",
       "      <td>GUEST_INVITE</td>\n",
       "      <td>2014-05-22 22:31:11</td>\n",
       "      <td>0</td>\n",
       "      <td>0</td>\n",
       "      <td>85</td>\n",
       "      <td>8426</td>\n",
       "      <td>True</td>\n",
       "      <td>671 days</td>\n",
       "    </tr>\n",
       "  </tbody>\n",
       "</table>\n",
       "<p>9600 rows × 11 columns</p>\n",
       "</div>"
      ],
      "text/plain": [
       "                creation_time               name  \\\n",
       "object_id                                          \n",
       "4880      2014-02-05 14:09:24        White Freya   \n",
       "9399      2013-05-27 11:20:43    Martins Giovana   \n",
       "83        2013-01-26 09:44:23    Araujo Gabriela   \n",
       "4051      2014-05-29 14:58:50     Holm Alexander   \n",
       "656       2013-01-24 15:50:50        Lowry Elise   \n",
       "...                       ...                ...   \n",
       "3190      2014-01-10 21:51:06      Edgerton Jack   \n",
       "1358      2013-12-24 05:24:22     Hoffmann Peter   \n",
       "11084     2013-02-23 20:11:35         Nepean Ben   \n",
       "7853      2014-04-24 07:15:58  Barrallier Stella   \n",
       "8426      2012-07-20 22:31:11     Rucker Douglas   \n",
       "\n",
       "                                         email     creation_source  \\\n",
       "object_id                                                            \n",
       "4880                        zgglolpq@itusf.com          ORG_INVITE   \n",
       "9399       GiovanaAraujoMartins@jourrapide.com          ORG_INVITE   \n",
       "83            GabrielaFernandesAraujo@cuvox.de          ORG_INVITE   \n",
       "4051                  AlexanderOHolm@gustr.com          ORG_INVITE   \n",
       "656                      EliseRLowry@gmail.com  SIGNUP_GOOGLE_AUTH   \n",
       "...                                        ...                 ...   \n",
       "3190                    JackEdgerton@gmail.com  SIGNUP_GOOGLE_AUTH   \n",
       "1358                        smjhhror@uznoh.com              SIGNUP   \n",
       "11084                      BenNepean@gmail.com        GUEST_INVITE   \n",
       "7853                StellaBarrallier@gustr.com        GUEST_INVITE   \n",
       "8426                  DouglasJRucker@gmail.com        GUEST_INVITE   \n",
       "\n",
       "          last_session_creation_time  opted_in_to_mailing_list  \\\n",
       "object_id                                                        \n",
       "4880             2014-02-07 14:09:24                         0   \n",
       "9399                             NaT                         0   \n",
       "83               2013-01-27 09:44:23                         1   \n",
       "4051             2014-06-06 14:58:50                         0   \n",
       "656              2013-01-24 15:50:50                         1   \n",
       "...                              ...                       ...   \n",
       "3190             2014-01-10 21:51:06                         0   \n",
       "1358             2013-12-24 05:24:22                         0   \n",
       "11084            2013-04-09 20:11:35                         1   \n",
       "7853             2014-04-25 07:15:58                         0   \n",
       "8426             2014-05-22 22:31:11                         0   \n",
       "\n",
       "           enabled_for_marketing_drip  org_id  invited_by_user_id  is_adopted  \\\n",
       "object_id                                                                       \n",
       "4880                                0      20               10318       False   \n",
       "9399                                1      57                1055       False   \n",
       "83                                  0     172                9016       False   \n",
       "4051                                1      47                5340       False   \n",
       "656                                 1      42                   0       False   \n",
       "...                               ...     ...                 ...         ...   \n",
       "3190                                0     167                   0       False   \n",
       "1358                                0     276                   0       False   \n",
       "11084                               0       5                8487       False   \n",
       "7853                                0     178                2751       False   \n",
       "8426                                0      85                8426        True   \n",
       "\n",
       "          total_session_time  \n",
       "object_id                     \n",
       "4880                  2 days  \n",
       "9399                     NaT  \n",
       "83                    1 days  \n",
       "4051                  8 days  \n",
       "656                   0 days  \n",
       "...                      ...  \n",
       "3190                  0 days  \n",
       "1358                  0 days  \n",
       "11084                45 days  \n",
       "7853                  1 days  \n",
       "8426                671 days  \n",
       "\n",
       "[9600 rows x 11 columns]"
      ]
     },
     "execution_count": 513,
     "metadata": {},
     "output_type": "execute_result"
    }
   ],
   "source": [
    "train"
   ]
  },
  {
   "cell_type": "raw",
   "id": "7df0f35a",
   "metadata": {},
   "source": []
  },
  {
   "cell_type": "markdown",
   "id": "9e71cc97",
   "metadata": {},
   "source": [
    "## Modeling"
   ]
  },
  {
   "cell_type": "code",
   "execution_count": 514,
   "id": "5dc17f4c",
   "metadata": {},
   "outputs": [],
   "source": [
    "X_train, X_val, y_train, y_val = train_test_split(train.drop('is_adopted', axis=1), train['is_adopted'], train_size=0.8, random_state=0, stratify=train['is_adopted'])"
   ]
  },
  {
   "cell_type": "code",
   "execution_count": 515,
   "id": "4067b970",
   "metadata": {},
   "outputs": [
    {
     "data": {
      "text/plain": [
       "False    1689\n",
       "True      231\n",
       "Name: is_adopted, dtype: int64"
      ]
     },
     "execution_count": 515,
     "metadata": {},
     "output_type": "execute_result"
    }
   ],
   "source": [
    "y_val.value_counts()"
   ]
  },
  {
   "cell_type": "code",
   "execution_count": 516,
   "id": "aada283a",
   "metadata": {},
   "outputs": [
    {
     "data": {
      "text/plain": [
       "object_id\n",
       "36        6805\n",
       "1728      1728\n",
       "8089      7375\n",
       "3160         0\n",
       "9667     11750\n",
       "         ...  \n",
       "10571     2251\n",
       "11626        0\n",
       "11212        0\n",
       "3458         0\n",
       "1974      8494\n",
       "Name: invited_by_user_id, Length: 7680, dtype: int64"
      ]
     },
     "execution_count": 516,
     "metadata": {},
     "output_type": "execute_result"
    }
   ],
   "source": [
    "X_train['invited_by_user_id'].fillna(value=0).astype(int)"
   ]
  },
  {
   "cell_type": "code",
   "execution_count": 301,
   "id": "38f7aeb9",
   "metadata": {},
   "outputs": [
    {
     "data": {
      "text/plain": [
       "1        False\n",
       "2         True\n",
       "3        False\n",
       "4        False\n",
       "5        False\n",
       "         ...  \n",
       "11996    False\n",
       "11997    False\n",
       "11998    False\n",
       "11999    False\n",
       "12000    False\n",
       "Length: 8823, dtype: bool"
      ]
     },
     "execution_count": 301,
     "metadata": {},
     "output_type": "execute_result"
    }
   ],
   "source": [
    "target"
   ]
  },
  {
   "cell_type": "code",
   "execution_count": 302,
   "id": "063383f6",
   "metadata": {},
   "outputs": [
    {
     "data": {
      "text/plain": [
       "False"
      ]
     },
     "execution_count": 302,
     "metadata": {},
     "output_type": "execute_result"
    }
   ],
   "source": [
    "adopted_user(users_na.index[0])"
   ]
  },
  {
   "cell_type": "code",
   "execution_count": 303,
   "id": "e81574fb",
   "metadata": {},
   "outputs": [
    {
     "ename": "KeyError",
     "evalue": "'object_id'",
     "output_type": "error",
     "traceback": [
      "\u001b[0;31m---------------------------------------------------------------------------\u001b[0m",
      "\u001b[0;31mKeyError\u001b[0m                                  Traceback (most recent call last)",
      "\u001b[0;32m/Library/Frameworks/Python.framework/Versions/3.9/lib/python3.9/site-packages/pandas/core/indexes/base.py\u001b[0m in \u001b[0;36mget_loc\u001b[0;34m(self, key, method, tolerance)\u001b[0m\n\u001b[1;32m   3360\u001b[0m             \u001b[0;32mtry\u001b[0m\u001b[0;34m:\u001b[0m\u001b[0;34m\u001b[0m\u001b[0;34m\u001b[0m\u001b[0m\n\u001b[0;32m-> 3361\u001b[0;31m                 \u001b[0;32mreturn\u001b[0m \u001b[0mself\u001b[0m\u001b[0;34m.\u001b[0m\u001b[0m_engine\u001b[0m\u001b[0;34m.\u001b[0m\u001b[0mget_loc\u001b[0m\u001b[0;34m(\u001b[0m\u001b[0mcasted_key\u001b[0m\u001b[0;34m)\u001b[0m\u001b[0;34m\u001b[0m\u001b[0;34m\u001b[0m\u001b[0m\n\u001b[0m\u001b[1;32m   3362\u001b[0m             \u001b[0;32mexcept\u001b[0m \u001b[0mKeyError\u001b[0m \u001b[0;32mas\u001b[0m \u001b[0merr\u001b[0m\u001b[0;34m:\u001b[0m\u001b[0;34m\u001b[0m\u001b[0;34m\u001b[0m\u001b[0m\n",
      "\u001b[0;32m/Library/Frameworks/Python.framework/Versions/3.9/lib/python3.9/site-packages/pandas/_libs/index.pyx\u001b[0m in \u001b[0;36mpandas._libs.index.IndexEngine.get_loc\u001b[0;34m()\u001b[0m\n",
      "\u001b[0;32m/Library/Frameworks/Python.framework/Versions/3.9/lib/python3.9/site-packages/pandas/_libs/index.pyx\u001b[0m in \u001b[0;36mpandas._libs.index.IndexEngine.get_loc\u001b[0;34m()\u001b[0m\n",
      "\u001b[0;32mpandas/_libs/hashtable_class_helper.pxi\u001b[0m in \u001b[0;36mpandas._libs.hashtable.PyObjectHashTable.get_item\u001b[0;34m()\u001b[0m\n",
      "\u001b[0;32mpandas/_libs/hashtable_class_helper.pxi\u001b[0m in \u001b[0;36mpandas._libs.hashtable.PyObjectHashTable.get_item\u001b[0;34m()\u001b[0m\n",
      "\u001b[0;31mKeyError\u001b[0m: 'object_id'",
      "\nThe above exception was the direct cause of the following exception:\n",
      "\u001b[0;31mKeyError\u001b[0m                                  Traceback (most recent call last)",
      "\u001b[0;32m<timed exec>\u001b[0m in \u001b[0;36m<module>\u001b[0;34m\u001b[0m\n",
      "\u001b[0;32m/Library/Frameworks/Python.framework/Versions/3.9/lib/python3.9/site-packages/pandas/core/frame.py\u001b[0m in \u001b[0;36m__getitem__\u001b[0;34m(self, key)\u001b[0m\n\u001b[1;32m   3456\u001b[0m             \u001b[0;32mif\u001b[0m \u001b[0mself\u001b[0m\u001b[0;34m.\u001b[0m\u001b[0mcolumns\u001b[0m\u001b[0;34m.\u001b[0m\u001b[0mnlevels\u001b[0m \u001b[0;34m>\u001b[0m \u001b[0;36m1\u001b[0m\u001b[0;34m:\u001b[0m\u001b[0;34m\u001b[0m\u001b[0;34m\u001b[0m\u001b[0m\n\u001b[1;32m   3457\u001b[0m                 \u001b[0;32mreturn\u001b[0m \u001b[0mself\u001b[0m\u001b[0;34m.\u001b[0m\u001b[0m_getitem_multilevel\u001b[0m\u001b[0;34m(\u001b[0m\u001b[0mkey\u001b[0m\u001b[0;34m)\u001b[0m\u001b[0;34m\u001b[0m\u001b[0;34m\u001b[0m\u001b[0m\n\u001b[0;32m-> 3458\u001b[0;31m             \u001b[0mindexer\u001b[0m \u001b[0;34m=\u001b[0m \u001b[0mself\u001b[0m\u001b[0;34m.\u001b[0m\u001b[0mcolumns\u001b[0m\u001b[0;34m.\u001b[0m\u001b[0mget_loc\u001b[0m\u001b[0;34m(\u001b[0m\u001b[0mkey\u001b[0m\u001b[0;34m)\u001b[0m\u001b[0;34m\u001b[0m\u001b[0;34m\u001b[0m\u001b[0m\n\u001b[0m\u001b[1;32m   3459\u001b[0m             \u001b[0;32mif\u001b[0m \u001b[0mis_integer\u001b[0m\u001b[0;34m(\u001b[0m\u001b[0mindexer\u001b[0m\u001b[0;34m)\u001b[0m\u001b[0;34m:\u001b[0m\u001b[0;34m\u001b[0m\u001b[0;34m\u001b[0m\u001b[0m\n\u001b[1;32m   3460\u001b[0m                 \u001b[0mindexer\u001b[0m \u001b[0;34m=\u001b[0m \u001b[0;34m[\u001b[0m\u001b[0mindexer\u001b[0m\u001b[0;34m]\u001b[0m\u001b[0;34m\u001b[0m\u001b[0;34m\u001b[0m\u001b[0m\n",
      "\u001b[0;32m/Library/Frameworks/Python.framework/Versions/3.9/lib/python3.9/site-packages/pandas/core/indexes/base.py\u001b[0m in \u001b[0;36mget_loc\u001b[0;34m(self, key, method, tolerance)\u001b[0m\n\u001b[1;32m   3361\u001b[0m                 \u001b[0;32mreturn\u001b[0m \u001b[0mself\u001b[0m\u001b[0;34m.\u001b[0m\u001b[0m_engine\u001b[0m\u001b[0;34m.\u001b[0m\u001b[0mget_loc\u001b[0m\u001b[0;34m(\u001b[0m\u001b[0mcasted_key\u001b[0m\u001b[0;34m)\u001b[0m\u001b[0;34m\u001b[0m\u001b[0;34m\u001b[0m\u001b[0m\n\u001b[1;32m   3362\u001b[0m             \u001b[0;32mexcept\u001b[0m \u001b[0mKeyError\u001b[0m \u001b[0;32mas\u001b[0m \u001b[0merr\u001b[0m\u001b[0;34m:\u001b[0m\u001b[0;34m\u001b[0m\u001b[0;34m\u001b[0m\u001b[0m\n\u001b[0;32m-> 3363\u001b[0;31m                 \u001b[0;32mraise\u001b[0m \u001b[0mKeyError\u001b[0m\u001b[0;34m(\u001b[0m\u001b[0mkey\u001b[0m\u001b[0;34m)\u001b[0m \u001b[0;32mfrom\u001b[0m \u001b[0merr\u001b[0m\u001b[0;34m\u001b[0m\u001b[0;34m\u001b[0m\u001b[0m\n\u001b[0m\u001b[1;32m   3364\u001b[0m \u001b[0;34m\u001b[0m\u001b[0m\n\u001b[1;32m   3365\u001b[0m         \u001b[0;32mif\u001b[0m \u001b[0mis_scalar\u001b[0m\u001b[0;34m(\u001b[0m\u001b[0mkey\u001b[0m\u001b[0;34m)\u001b[0m \u001b[0;32mand\u001b[0m \u001b[0misna\u001b[0m\u001b[0;34m(\u001b[0m\u001b[0mkey\u001b[0m\u001b[0;34m)\u001b[0m \u001b[0;32mand\u001b[0m \u001b[0;32mnot\u001b[0m \u001b[0mself\u001b[0m\u001b[0;34m.\u001b[0m\u001b[0mhasnans\u001b[0m\u001b[0;34m:\u001b[0m\u001b[0;34m\u001b[0m\u001b[0;34m\u001b[0m\u001b[0m\n",
      "\u001b[0;31mKeyError\u001b[0m: 'object_id'"
     ]
    }
   ],
   "source": [
    "%%time\n",
    "users_na['is_adopted'] = users_na['object_id'].apply(lambda x: adopted_user(x))\n"
   ]
  },
  {
   "cell_type": "code",
   "execution_count": 261,
   "id": "9b70c9df",
   "metadata": {},
   "outputs": [
    {
     "data": {
      "text/plain": [
       "1"
      ]
     },
     "execution_count": 261,
     "metadata": {},
     "output_type": "execute_result"
    }
   ],
   "source": [
    "users_na['object_id'].iloc[0]"
   ]
  },
  {
   "cell_type": "code",
   "execution_count": 90,
   "id": "acdbc05d",
   "metadata": {},
   "outputs": [
    {
     "data": {
      "text/plain": [
       "time_stamp    0\n",
       "user_id       0\n",
       "visited       0\n",
       "dtype: int64"
      ]
     },
     "execution_count": 90,
     "metadata": {},
     "output_type": "execute_result"
    }
   ],
   "source": []
  },
  {
   "cell_type": "code",
   "execution_count": null,
   "id": "470d1461",
   "metadata": {},
   "outputs": [],
   "source": []
  }
 ],
 "metadata": {
  "kernelspec": {
   "display_name": "Python 3",
   "language": "python",
   "name": "python3"
  },
  "language_info": {
   "codemirror_mode": {
    "name": "ipython",
    "version": 3
   },
   "file_extension": ".py",
   "mimetype": "text/x-python",
   "name": "python",
   "nbconvert_exporter": "python",
   "pygments_lexer": "ipython3",
   "version": "3.9.4"
  }
 },
 "nbformat": 4,
 "nbformat_minor": 5
}
